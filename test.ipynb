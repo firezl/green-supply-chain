{
 "cells": [
  {
   "cell_type": "code",
   "execution_count": 1,
   "id": "initial_id",
   "metadata": {
    "collapsed": true,
    "ExecuteTime": {
     "end_time": "2023-11-21T13:20:48.001952400Z",
     "start_time": "2023-11-21T13:20:47.790408800Z"
    }
   },
   "outputs": [],
   "source": [
    "import requests\n",
    "import bs4"
   ]
  },
  {
   "cell_type": "code",
   "execution_count": 2,
   "outputs": [],
   "source": [
    "url = \"https://www.ipe.org.cn/GreenSupplyChain/CITIDetailV2.aspx?id=823\""
   ],
   "metadata": {
    "collapsed": false,
    "ExecuteTime": {
     "end_time": "2023-11-21T13:21:01.167535200Z",
     "start_time": "2023-11-21T13:21:01.125037800Z"
    }
   },
   "id": "e70fbb918de205ad"
  },
  {
   "cell_type": "code",
   "execution_count": 3,
   "outputs": [],
   "source": [
    "url2 = \"https://www.ipe.org.cn/MapSCMBrand/BrandDetail.aspx?id=823\""
   ],
   "metadata": {
    "collapsed": false,
    "ExecuteTime": {
     "end_time": "2023-11-21T13:21:21.064589100Z",
     "start_time": "2023-11-21T13:21:21.045742300Z"
    }
   },
   "id": "6d6ab48b5062f24c"
  },
  {
   "cell_type": "code",
   "execution_count": 4,
   "outputs": [],
   "source": [
    "head = {\n",
    "    \"User-Agent\": \"Mozilla/5.0 (Windows NT 10.0; Win64; x64) AppleWebKit/537.36 (KHTML, like Gecko) Chrome/119.0.0.0 Safari/537.36 Edg/119.0.0.0\"\n",
    "}"
   ],
   "metadata": {
    "collapsed": false,
    "ExecuteTime": {
     "end_time": "2023-11-21T13:22:48.953943Z",
     "start_time": "2023-11-21T13:22:48.933482300Z"
    }
   },
   "id": "84cd6d0d0f67dc7d"
  },
  {
   "cell_type": "code",
   "execution_count": 5,
   "outputs": [],
   "source": [
    "res = requests.get(url, headers=head)"
   ],
   "metadata": {
    "collapsed": false,
    "ExecuteTime": {
     "end_time": "2023-11-21T13:22:54.730615600Z",
     "start_time": "2023-11-21T13:22:53.498668300Z"
    }
   },
   "id": "2fa969135f2190a1"
  },
  {
   "cell_type": "code",
   "execution_count": 6,
   "outputs": [],
   "source": [
    "res2 = requests.get(url2, headers=head)"
   ],
   "metadata": {
    "collapsed": false,
    "ExecuteTime": {
     "end_time": "2023-11-21T13:22:56.435827900Z",
     "start_time": "2023-11-21T13:22:55.688975700Z"
    }
   },
   "id": "79ee86a64b605860"
  },
  {
   "cell_type": "code",
   "execution_count": 7,
   "outputs": [],
   "source": [
    "res.encoding = \"utf-8\""
   ],
   "metadata": {
    "collapsed": false,
    "ExecuteTime": {
     "end_time": "2023-11-21T13:23:01.978699500Z",
     "start_time": "2023-11-21T13:23:01.952429800Z"
    }
   },
   "id": "de0d8ab65bd3272f"
  },
  {
   "cell_type": "code",
   "execution_count": 8,
   "outputs": [],
   "source": [
    "res2.encoding = \"utf-8\""
   ],
   "metadata": {
    "collapsed": false,
    "ExecuteTime": {
     "end_time": "2023-11-21T13:23:03.698612700Z",
     "start_time": "2023-11-21T13:23:03.642673600Z"
    }
   },
   "id": "99202b9dd93d4f6e"
  },
  {
   "cell_type": "code",
   "execution_count": 9,
   "outputs": [],
   "source": [
    "soup = bs4.BeautifulSoup(res.text, \"html.parser\")"
   ],
   "metadata": {
    "collapsed": false,
    "ExecuteTime": {
     "end_time": "2023-11-21T13:23:07.292602900Z",
     "start_time": "2023-11-21T13:23:07.247059700Z"
    }
   },
   "id": "80bae07e1cb82983"
  },
  {
   "cell_type": "code",
   "execution_count": 10,
   "outputs": [],
   "source": [
    "soup2 = bs4.BeautifulSoup(res2.text, \"html.parser\")"
   ],
   "metadata": {
    "collapsed": false,
    "ExecuteTime": {
     "end_time": "2023-11-21T13:23:09.807791800Z",
     "start_time": "2023-11-21T13:23:09.759114Z"
    }
   },
   "id": "27f4d2a0f05a6750"
  },
  {
   "cell_type": "code",
   "execution_count": 19,
   "outputs": [
    {
     "data": {
      "text/plain": "[<ul class=\"citi-cati citi-number\">\n <li><h6>CITI 分数</h6><p>72.40</p><span>总分：100分</span> </li> <li><h6>总排名</h6><p>11</p><span>742个品牌</span> </li><li><h6>行业排名</h6><p>3</p><span>IT/ ICT行业共69个品牌</span> </li>\n </ul>]"
     },
     "execution_count": 19,
     "metadata": {},
     "output_type": "execute_result"
    }
   ],
   "source": [
    "soup.find_all(\"ul\", {\"class\": \"citi-cati citi-number\"})"
   ],
   "metadata": {
    "collapsed": false,
    "ExecuteTime": {
     "end_time": "2023-11-21T13:31:52.601481300Z",
     "start_time": "2023-11-21T13:31:52.566373800Z"
    }
   },
   "id": "7ea69fcaa30805fd"
  },
  {
   "cell_type": "code",
   "execution_count": 20,
   "outputs": [
    {
     "data": {
      "text/plain": "[<ul class=\"citi-cati cati-number\">\n <li><h6>CATI 分数</h6><p>67.00</p><span>总分：100分</span> </li> <li><h6>总排名</h6><p>12</p><span>1504个品牌</span> </li><li><h6>行业排名</h6><p>6</p><span>IT/ ICT行业共107个品牌</span> </li>\n </ul>]"
     },
     "execution_count": 20,
     "metadata": {},
     "output_type": "execute_result"
    }
   ],
   "source": [
    "soup.find_all(\"ul\", {\"class\": \"citi-cati cati-number\"})"
   ],
   "metadata": {
    "collapsed": false,
    "ExecuteTime": {
     "end_time": "2023-11-21T13:32:57.572603400Z",
     "start_time": "2023-11-21T13:32:57.523477800Z"
    }
   },
   "id": "a0374b614db8c984"
  },
  {
   "cell_type": "code",
   "execution_count": 43,
   "outputs": [
    {
     "data": {
      "text/plain": "[<strong>13.00</strong>, <strong>6.00</strong>, <strong>7.00</strong>]"
     },
     "execution_count": 43,
     "metadata": {},
     "output_type": "execute_result"
    }
   ],
   "source": [
    "soup.find_all(\"div\", {\"class\": \"lists\"})[0].find_all(\"strong\")"
   ],
   "metadata": {
    "collapsed": false,
    "ExecuteTime": {
     "end_time": "2023-11-21T13:45:18.614022900Z",
     "start_time": "2023-11-21T13:45:18.566335500Z"
    }
   },
   "id": "17162ed82abfb920"
  },
  {
   "cell_type": "code",
   "execution_count": 44,
   "outputs": [
    {
     "data": {
      "text/plain": "[<strong>15.50</strong>, <strong>6.00</strong>, <strong>9.50</strong>]"
     },
     "execution_count": 44,
     "metadata": {},
     "output_type": "execute_result"
    }
   ],
   "source": [
    "soup.find_all(\"div\", {\"class\": \"lists\"})[1].find_all(\"strong\")"
   ],
   "metadata": {
    "collapsed": false,
    "ExecuteTime": {
     "end_time": "2023-11-21T13:45:34.693211600Z",
     "start_time": "2023-11-21T13:45:34.651152300Z"
    }
   },
   "id": "b298100f31799c87"
  },
  {
   "cell_type": "code",
   "execution_count": 26,
   "outputs": [
    {
     "data": {
      "text/plain": "<div class=\"lists\">\n<div class=\"list-one flex-between\">\n<h4>\n<b class=\"down\"></b>\n3.  延伸绿色供应链（总分：30.00）\n</h4>\n<strong>15.50</strong>\n</div>\n<ul style=\"display:block\">\n<li onclick=\"showContent(this)\">\n<div class=\"list-two flex-between\">\n<h5>\n<b></b> 3.1 化学品负责任管控 </h5>\n<strong>3.00</strong>\n</div>\n<div class=\"list-content\">\n<p>\n品牌推动问题供应商及时就环境违规产生的原因、整改方案或已经采取的整改措施、环境合规现状进行公开说明，验证整改的有效性或持续披露整改及环境合规信息，并推动化学品供应商通过蔚蓝生态链等自动化系统关注自身的环境合规表现。\n</p>\n</div>\n</li>\n<li onclick=\"showContent(this)\">\n<div class=\"list-two flex-between\">\n<h5>\n<b></b> 3.2.1<sup>*</sup> 污水负责任管控 </h5>\n<strong>1.80</strong>\n</div>\n<div class=\"list-content\">\n<p>\n品牌通过蔚蓝生态链或其他自动化系统检索并持续追踪集中污水处理设施的环境合规表现。品牌推动供应商告知存在环境违规的集中污水处理设施采取整改措施，就环境违规产生的原因、整改方案或已经采取的整改措施、环境合规现状进行公开说明，并通过自动化系统持续关注自身的环境合规表现。\n</p>\n</div>\n</li>\n<li onclick=\"showContent(this)\">\n<div class=\"list-two flex-between\">\n<h5>\n<b></b> 3.2.2<sup>*</sup> 固体废物负责任管控 </h5>\n<strong>4.20</strong>\n</div>\n<div class=\"list-content\">\n<p>\n品牌通过蔚蓝生态链等自动化系统检索并持续追踪供应商的固体废物运输、利用、处置单位环境合规表现。品牌推动供应商告知存在环境违规的固体废物运输、利用、处置单位采取整改措施，就环境违规产生的原因、整改方案或已经采取的整改措施、环境合规现状进行公开说明，并推动上述供应商通过自动化系统持续关注自身的环境合规表现。\n</p>\n</div>\n</li>\n<li onclick=\"showContent(this)\">\n<div class=\"list-two flex-between\">\n<h5>\n<b></b> 3.3 物流负责任管控 </h5>\n<strong>1.50</strong>\n</div>\n<div class=\"list-content\">\n<p>\n品牌将环境管理延伸至物流环节，公开披露绿色物流管控要求，并通过蔚蓝生态链或其他自动化系统检索并持续追踪物流供应商的环境合规表现\n</p>\n</div>\n</li>\n<li onclick=\"showContent(this)\">\n<div class=\"list-two flex-between\">\n<h5>\n<b></b> 3.4 供应商自主管控环境风险 </h5>\n<strong>5.00</strong>\n</div>\n<div class=\"list-content\">\n<p>\n供应商自主推动其问题供应商及时就环境违规产生的原因、整改方案或已经采取的整改措施、环境合规现状进行公开说明，验证整改的有效性或持续披露整改及环境合规信息，并推动其供应商通过蔚蓝生态链或其他自动化系统关注自身的环境合规表现。\n</p>\n</div>\n</li>\n</ul>\n</div>"
     },
     "execution_count": 26,
     "metadata": {},
     "output_type": "execute_result"
    }
   ],
   "source": [
    "soup.find_all(\"div\", {\"class\": \"lists\"})[2]"
   ],
   "metadata": {
    "collapsed": false,
    "ExecuteTime": {
     "end_time": "2023-11-21T13:36:31.379891600Z",
     "start_time": "2023-11-21T13:36:31.358195300Z"
    }
   },
   "id": "3a9b41ce1d999f58"
  },
  {
   "cell_type": "code",
   "execution_count": 27,
   "outputs": [
    {
     "data": {
      "text/plain": "<div class=\"lists\">\n<div class=\"list-one flex-between\">\n<h4>\n<b class=\"down\"></b>\n4.  节能减排（总分：32.00）\n</h4>\n<strong>23.40</strong>\n</div>\n<ul style=\"display:block\">\n<li onclick=\"showContent(this)\">\n<div class=\"list-two flex-between\">\n<h5>\n<b></b> 4.1 推动供应商节能减排，披露能源与碳数据 </h5>\n<strong>13.40</strong>\n</div>\n<div class=\"list-content\">\n<p>\n品牌测算披露价值链的温室气体排放情况，披露价值链的温室气体减排目标，采取行动降低价值链的温室气体排放。\n</p>\n</div>\n</li>\n<li onclick=\"showContent(this)\">\n<div class=\"list-two flex-between\">\n<h5>\n<b></b> 4.2 推动供应商提高资源利用效率、减少污染物排放，披露污染物排放转移数据 </h5>\n<strong>10.00</strong>\n</div>\n<div class=\"list-content\">\n<p>\n品牌设定并公开披露提高供应链资源利用效率、减少资源消耗和污染物减排目标，并披露目标完成进展。品牌识别在华供应链中资源消耗与污染物排放的主要环节，及资源消耗高、污染物排放高的供应商，制定书面政策，推动上述供应商提高资源利用效率、减少资源消耗和污染物减排。品牌持续推动在华供应链中资源消耗高和/或污染物排放高的供应商统计并公开披露经验证的资源消耗与污染物排放转移数据，并推动供应商设定并公开披露提高资源利用效率、减少资源消耗和污染物减排的目标。\n</p>\n</div>\n</li>\n</ul>\n</div>"
     },
     "execution_count": 27,
     "metadata": {},
     "output_type": "execute_result"
    }
   ],
   "source": [
    "soup.find_all(\"div\", {\"class\": \"lists\"})[3]"
   ],
   "metadata": {
    "collapsed": false,
    "ExecuteTime": {
     "end_time": "2023-11-21T13:36:39.583078300Z",
     "start_time": "2023-11-21T13:36:39.539579500Z"
    }
   },
   "id": "69c1cf29d3335d21"
  },
  {
   "cell_type": "code",
   "execution_count": 28,
   "outputs": [
    {
     "data": {
      "text/plain": "<div class=\"lists\">\n<div class=\"list-one flex-between\">\n<h4>\n<b class=\"down\"></b>\n5.  推动公众绿色选择（总分：6.00）\n</h4>\n<strong>5.00</strong>\n</div>\n<ul style=\"display:block\">\n<li onclick=\"showContent(this)\">\n<div class=\"list-two flex-between\">\n<h5>\n<b></b> 5.1 引导公众关注在华供应链环境表现 </h5>\n<strong>5.00</strong>\n</div>\n<div class=\"list-content\">\n<p>\n建立废弃物回收利用体系，引导公众参与废弃物回收利用等行动。或建立产品生产、销售、回收与处置环节的减塑机制，引导公众参与减塑行动\n</p>\n</div>\n</li>\n</ul>\n</div>"
     },
     "execution_count": 28,
     "metadata": {},
     "output_type": "execute_result"
    }
   ],
   "source": [
    "soup.find_all(\"div\", {\"class\": \"lists\"})[4]"
   ],
   "metadata": {
    "collapsed": false,
    "ExecuteTime": {
     "end_time": "2023-11-21T13:36:42.174133Z",
     "start_time": "2023-11-21T13:36:42.130197Z"
    }
   },
   "id": "42e3f8b2abc3cec7"
  },
  {
   "cell_type": "code",
   "execution_count": 29,
   "outputs": [
    {
     "data": {
      "text/plain": "<div class=\"lists\">\n<div class=\"list-one flex-between\">\n<h4>\n<b class=\"up\"></b>\n1.1  治理机制-制度建设\n（总分：5.00）\n</h4>\n<strong>5.00</strong>\n</div>\n<ul style=\"display:block\">\n<li>\n<div class=\"list-two flex-between\">\n<h5>\n1.1.1 已做出气候行动的承诺，发布气候宣言</h5>\n<strong>2.00</strong>\n</div>\n</li>\n<li>\n<div class=\"list-two flex-between\">\n<h5>\n1.1.2 制定企业碳中和配套管理制度</h5>\n<strong>2.00</strong>\n</div>\n</li>\n<li>\n<div class=\"list-two flex-between\">\n<h5>\n1.1.3 将供应商温室气体核算与报送纳入供应商行为准则等书面文件</h5>\n<strong>1.00</strong>\n</div>\n</li>\n</ul>\n</div>"
     },
     "execution_count": 29,
     "metadata": {},
     "output_type": "execute_result"
    }
   ],
   "source": [
    "soup.find_all(\"div\", {\"class\": \"lists\"})[5]"
   ],
   "metadata": {
    "collapsed": false,
    "ExecuteTime": {
     "end_time": "2023-11-21T13:36:45.172813700Z",
     "start_time": "2023-11-21T13:36:45.106867400Z"
    }
   },
   "id": "ae1d862052ed48d5"
  },
  {
   "cell_type": "code",
   "execution_count": 30,
   "outputs": [
    {
     "data": {
      "text/plain": "<div class=\"lists\">\n<div class=\"list-one flex-between\">\n<h4>\n<b class=\"down\"></b>\n1.2  治理机制-机制建设\n（总分：5.00）\n</h4>\n<strong>5.00</strong>\n</div>\n<ul>\n<li>\n<div class=\"list-two flex-between\">\n<h5>\n1.2.1 将气候变化纳入商业决策并具有针对气候相关的风险管理程序</h5>\n<strong>2.00</strong>\n</div>\n</li>\n<li>\n<div class=\"list-two flex-between\">\n<h5>\n1.2.2 将气候相关议题纳入董事会（最高决策层）监督职责</h5>\n<strong>1.00</strong>\n</div>\n</li>\n<li>\n<div class=\"list-two flex-between\">\n<h5>\n1.2.3 通过赋能、开展创新项目、财务激励等机制引导供应商减排</h5>\n<strong>2.00</strong>\n</div>\n</li>\n</ul>\n</div>"
     },
     "execution_count": 30,
     "metadata": {},
     "output_type": "execute_result"
    }
   ],
   "source": [
    "soup.find_all(\"div\", {\"class\": \"lists\"})[6]"
   ],
   "metadata": {
    "collapsed": false,
    "ExecuteTime": {
     "end_time": "2023-11-21T13:36:47.736733900Z",
     "start_time": "2023-11-21T13:36:47.708003300Z"
    }
   },
   "id": "5440e27ac4f839ad"
  },
  {
   "cell_type": "code",
   "execution_count": 31,
   "outputs": [
    {
     "data": {
      "text/plain": "<div class=\"lists\">\n<div class=\"list-one flex-between\">\n<h4>\n<b class=\"down\"></b>\n2.1  测算披露-范围1&amp;2\n（总分：9.00）\n</h4>\n<strong>8.00</strong>\n</div>\n<ul>\n<li>\n<div class=\"list-two flex-between\">\n<h5>\n2.1.1 测算并披露范围1&amp;2排放量</h5>\n<strong>3.00</strong>\n</div>\n</li>\n<li>\n<div class=\"list-two flex-between\">\n<h5>\n2.1.2 测算并披露综合能耗和能源使用情况</h5>\n<strong>2.00</strong>\n</div>\n</li>\n<li>\n<div class=\"list-two flex-between\">\n<h5>\n2.1.3 测算并披露碳强度或测算并披露能源强度</h5>\n<strong>2.00</strong>\n</div>\n</li>\n<li>\n<div class=\"list-two flex-between\">\n<h5>\n2.1.4 披露碳排放交易情况</h5>\n<strong>1.00</strong>\n</div>\n</li>\n</ul>\n</div>"
     },
     "execution_count": 31,
     "metadata": {},
     "output_type": "execute_result"
    }
   ],
   "source": [
    "soup.find_all(\"div\", {\"class\": \"lists\"})[7]"
   ],
   "metadata": {
    "collapsed": false,
    "ExecuteTime": {
     "end_time": "2023-11-21T13:36:49.940883100Z",
     "start_time": "2023-11-21T13:36:49.875667Z"
    }
   },
   "id": "92a2aa8c10f3c60b"
  },
  {
   "cell_type": "code",
   "execution_count": 32,
   "outputs": [
    {
     "data": {
      "text/plain": "<div class=\"lists\">\n<div class=\"list-one flex-between\">\n<h4>\n<b class=\"down\"></b>\n2.2  测算披露-范围3\n（总分：6.00）\n</h4>\n<strong>6.00</strong>\n</div>\n<ul>\n<li>\n<div class=\"list-two flex-between\">\n<h5>\n2.2.1 测算并披露范围3排放量</h5>\n<strong>4.00</strong>\n</div>\n</li>\n<li>\n<div class=\"list-two flex-between\">\n<h5>\n2.2.2 定期收集供应商实际排放数据</h5>\n<strong>2.00</strong>\n</div>\n</li>\n</ul>\n</div>"
     },
     "execution_count": 32,
     "metadata": {},
     "output_type": "execute_result"
    }
   ],
   "source": [
    "soup.find_all(\"div\", {\"class\": \"lists\"})[8]"
   ],
   "metadata": {
    "collapsed": false,
    "ExecuteTime": {
     "end_time": "2023-11-21T13:36:52.373828100Z",
     "start_time": "2023-11-21T13:36:52.347203100Z"
    }
   },
   "id": "d91d285810b63240"
  },
  {
   "cell_type": "code",
   "execution_count": 33,
   "outputs": [
    {
     "data": {
      "text/plain": "<div class=\"lists\">\n<div class=\"list-one flex-between\">\n<h4>\n<b class=\"down\"></b>\n2.3  测算披露-产品碳足迹\n（总分：4.00）\n</h4>\n<strong>4.00</strong>\n</div>\n<ul>\n<li>\n<div class=\"list-two flex-between\">\n<h5>\n2.3.1 测算并披露产品碳足迹数据</h5>\n<strong>4.00</strong>\n</div>\n</li>\n</ul>\n</div>"
     },
     "execution_count": 33,
     "metadata": {},
     "output_type": "execute_result"
    }
   ],
   "source": [
    "soup.find_all(\"div\", {\"class\": \"lists\"})[9]"
   ],
   "metadata": {
    "collapsed": false,
    "ExecuteTime": {
     "end_time": "2023-11-21T13:36:54.537254100Z",
     "start_time": "2023-11-21T13:36:54.473846800Z"
    }
   },
   "id": "f41b4c1afa81644c"
  },
  {
   "cell_type": "code",
   "execution_count": 34,
   "outputs": [
    {
     "data": {
      "text/plain": "<div class=\"lists\">\n<div class=\"list-one flex-between\">\n<h4>\n<b class=\"down\"></b>\n3.1  碳目标设定-范围1&amp;2目标\n（总分：7.00）\n</h4>\n<strong>6.00</strong>\n</div>\n<ul>\n<li>\n<div class=\"list-two flex-between\">\n<h5>\n3.1.1 设定并披露正在执行的范围1&amp;2减排目标</h5>\n<strong>3.00</strong>\n</div>\n</li>\n<li>\n<div class=\"list-two flex-between\">\n<h5>\n3.1.2 设定并披露范围1&amp;2碳中和目标</h5>\n<strong>2.00</strong>\n</div>\n</li>\n<li>\n<div class=\"list-two flex-between\">\n<h5>\n3.1.3 设定并披露可再生能源目标</h5>\n<strong>1.00</strong>\n</div>\n</li>\n<li>\n<div class=\"list-two flex-between\">\n<h5>\n3.1.4 范围1&amp;2气候目标经专业机构认证或批准</h5>\n<strong>0.00</strong>\n</div>\n</li>\n</ul>\n</div>"
     },
     "execution_count": 34,
     "metadata": {},
     "output_type": "execute_result"
    }
   ],
   "source": [
    "soup.find_all(\"div\", {\"class\": \"lists\"})[10]"
   ],
   "metadata": {
    "collapsed": false,
    "ExecuteTime": {
     "end_time": "2023-11-21T13:36:56.677161800Z",
     "start_time": "2023-11-21T13:36:56.611263200Z"
    }
   },
   "id": "dd3a1f3c06926359"
  },
  {
   "cell_type": "code",
   "execution_count": 35,
   "outputs": [
    {
     "data": {
      "text/plain": "<div class=\"lists\">\n<div class=\"list-one flex-between\">\n<h4>\n<b class=\"down\"></b>\n3.2  碳目标设定-范围3目标\n（总分：7.00）\n</h4>\n<strong>0.00</strong>\n</div>\n<ul>\n<li>\n<div class=\"list-two flex-between\">\n<h5>\n3.2.1 设定并披露正在执行的范围3减排目标</h5>\n<strong>0.00</strong>\n</div>\n</li>\n<li>\n<div class=\"list-two flex-between\">\n<h5>\n3.2.2 设定并披露范围3碳中和目标</h5>\n<strong>0.00</strong>\n</div>\n</li>\n<li>\n<div class=\"list-two flex-between\">\n<h5>\n3.2.3 设定并披露的目标涵盖：推动供应商设定减排目标</h5>\n<strong>0.00</strong>\n</div>\n</li>\n<li>\n<div class=\"list-two flex-between\">\n<h5>\n3.2.4 范围3气候目标经专业机构认证或批准</h5>\n<strong>0.00</strong>\n</div>\n</li>\n</ul>\n</div>"
     },
     "execution_count": 35,
     "metadata": {},
     "output_type": "execute_result"
    }
   ],
   "source": [
    "soup.find_all(\"div\", {\"class\": \"lists\"})[11]"
   ],
   "metadata": {
    "collapsed": false,
    "ExecuteTime": {
     "end_time": "2023-11-21T13:36:58.558882200Z",
     "start_time": "2023-11-21T13:36:58.518388700Z"
    }
   },
   "id": "2e5236a89f4f662e"
  },
  {
   "cell_type": "code",
   "execution_count": 36,
   "outputs": [
    {
     "data": {
      "text/plain": "<div class=\"lists\">\n<div class=\"list-one flex-between\">\n<h4>\n<b class=\"down\"></b>\n4.1  碳目标绩效-范围1&amp;2目标绩效\n（总分：7.00）\n</h4>\n<strong>7.00</strong>\n</div>\n<ul>\n<li>\n<div class=\"list-two flex-between\">\n<h5>\n4.1.1 披露范围1&amp;2减排目标的完成进展</h5>\n<strong>3.00</strong>\n</div>\n</li>\n<li>\n<div class=\"list-two flex-between\">\n<h5>\n4.1.2 披露范围1&amp;2碳中和目标的完成进展</h5>\n<strong>2.00</strong>\n</div>\n</li>\n<li>\n<div class=\"list-two flex-between\">\n<h5>\n4.1.3 披露可再生能源目标的完成进展</h5>\n<strong>2.00</strong>\n</div>\n</li>\n</ul>\n</div>"
     },
     "execution_count": 36,
     "metadata": {},
     "output_type": "execute_result"
    }
   ],
   "source": [
    "soup.find_all(\"div\", {\"class\": \"lists\"})[12]"
   ],
   "metadata": {
    "collapsed": false,
    "ExecuteTime": {
     "end_time": "2023-11-21T13:37:01.775717200Z",
     "start_time": "2023-11-21T13:37:01.734807500Z"
    }
   },
   "id": "471ae02780768689"
  },
  {
   "cell_type": "code",
   "execution_count": 37,
   "outputs": [
    {
     "data": {
      "text/plain": "<div class=\"lists\">\n<div class=\"list-one flex-between\">\n<h4>\n<b class=\"down\"></b>\n4.2  碳目标绩效-范围3目标绩效\n（总分：7.00）\n</h4>\n<strong>0.00</strong>\n</div>\n<ul>\n<li>\n<div class=\"list-two flex-between\">\n<h5>\n4.2.1 披露范围3减排目标的完成进展</h5>\n<strong>0.00</strong>\n</div>\n</li>\n<li>\n<div class=\"list-two flex-between\">\n<h5>\n4.2.2 披露范围3碳中和目标的完成进展</h5>\n<strong>0.00</strong>\n</div>\n</li>\n<li>\n<div class=\"list-two flex-between\">\n<h5>\n4.2.3 跟踪并披露供应商目标设定的进展</h5>\n<strong>0.00</strong>\n</div>\n</li>\n</ul>\n</div>"
     },
     "execution_count": 37,
     "metadata": {},
     "output_type": "execute_result"
    }
   ],
   "source": [
    "soup.find_all(\"div\", {\"class\": \"lists\"})[13]"
   ],
   "metadata": {
    "collapsed": false,
    "ExecuteTime": {
     "end_time": "2023-11-21T13:37:37.792703800Z",
     "start_time": "2023-11-21T13:37:37.763056900Z"
    }
   },
   "id": "d2acffce8ce24e75"
  },
  {
   "cell_type": "code",
   "execution_count": 38,
   "outputs": [
    {
     "data": {
      "text/plain": "<div class=\"lists\">\n<div class=\"list-one flex-between\">\n<h4>\n<b class=\"down\"></b>\n5.1  减排行动-企业自身运营减排\n（总分：12.00）\n</h4>\n<strong>9.00</strong>\n</div>\n<ul>\n<li>\n<div class=\"list-two flex-between\">\n<h5>\n5.1.1 开展非化石能源利用或绿电采购项目，并披露项目减排量</h5>\n<strong>2.00</strong>\n</div>\n</li>\n<li>\n<div class=\"list-two flex-between\">\n<h5>\n5.1.2 开展能源监测和管理项目</h5>\n<strong>1.00</strong>\n</div>\n</li>\n<li>\n<div class=\"list-two flex-between\">\n<h5>\n5.1.3 开展能效提升技术应用项目，并披露项目减排量</h5>\n<strong>4.00</strong>\n</div>\n</li>\n<li>\n<div class=\"list-two flex-between\">\n<h5>\n5.1.4 开展其他类型减排项目，并披露项目减排量</h5>\n<strong>1.00</strong>\n</div>\n</li>\n<li>\n<div class=\"list-two flex-between\">\n<h5>\n5.1.5 通过碳市场抵消机制减排，并披露减排量</h5>\n<strong>1.00</strong>\n</div>\n</li>\n</ul>\n</div>"
     },
     "execution_count": 38,
     "metadata": {},
     "output_type": "execute_result"
    }
   ],
   "source": [
    "soup.find_all(\"div\", {\"class\": \"lists\"})[14]"
   ],
   "metadata": {
    "collapsed": false,
    "ExecuteTime": {
     "end_time": "2023-11-21T13:37:41.015275300Z",
     "start_time": "2023-11-21T13:37:40.952062Z"
    }
   },
   "id": "8412bad12ca3429"
  },
  {
   "cell_type": "code",
   "execution_count": 39,
   "outputs": [
    {
     "data": {
      "text/plain": "<div class=\"lists\">\n<div class=\"list-one flex-between\">\n<h4>\n<b class=\"down\"></b>\n5.2  减排行动-企业价值链减排\n（总分：7.00）\n</h4>\n<strong>4.00</strong>\n</div>\n<ul>\n<li>\n<div class=\"list-two flex-between\">\n<h5>\n5.2.1 推动供应商开展企业碳管理或能源管理项目</h5>\n<strong>1.00</strong>\n</div>\n</li>\n<li>\n<div class=\"list-two flex-between\">\n<h5>\n5.2.2 与产品生产相关供应商合作开展减排项目，并披露项目减排量</h5>\n<strong>0.00</strong>\n</div>\n</li>\n<li>\n<div class=\"list-two flex-between\">\n<h5>\n5.2.3 与物流供应商合作开展减排项目，并披露项目减排量</h5>\n<strong>0.00</strong>\n</div>\n</li>\n<li>\n<div class=\"list-two flex-between\">\n<h5>\n5.2.4 每年发布供应商减排最佳案例</h5>\n<strong>2.00</strong>\n</div>\n</li>\n<li>\n<div class=\"list-two flex-between\">\n<h5>\n5.2.5 针对价值链上的其他排放源展开减排行动，并披露项目减排量</h5>\n<strong>1.00</strong>\n</div>\n</li>\n</ul>\n</div>"
     },
     "execution_count": 39,
     "metadata": {},
     "output_type": "execute_result"
    }
   ],
   "source": [
    "soup.find_all(\"div\", {\"class\": \"lists\"})[15]"
   ],
   "metadata": {
    "collapsed": false,
    "ExecuteTime": {
     "end_time": "2023-11-21T13:37:43.279724300Z",
     "start_time": "2023-11-21T13:37:43.210509Z"
    }
   },
   "id": "8849a059c5e5efa3"
  },
  {
   "cell_type": "code",
   "execution_count": 40,
   "outputs": [
    {
     "data": {
      "text/plain": "<div class=\"lists\">\n<div class=\"list-one flex-between\">\n<h4>\n<b class=\"down\"></b>\n5.3  减排行动-关联企业自主开展碳管理\n（总分：8.00）\n</h4>\n<strong>4.00</strong>\n</div>\n<ul>\n<li>\n<div class=\"list-two flex-between\">\n<h5>\n5.3.1 关联企业自主核算并公开披露年度排放数据</h5>\n<strong>2.00</strong>\n</div>\n</li>\n<li>\n<div class=\"list-two flex-between\">\n<h5>\n5.3.2 关联企业自主设定并公开披露目标与进展</h5>\n<strong>2.00</strong>\n</div>\n</li>\n</ul>\n</div>"
     },
     "execution_count": 40,
     "metadata": {},
     "output_type": "execute_result"
    }
   ],
   "source": [
    "soup.find_all(\"div\", {\"class\": \"lists\"})[16]"
   ],
   "metadata": {
    "collapsed": false,
    "ExecuteTime": {
     "end_time": "2023-11-21T13:37:45.047130800Z",
     "start_time": "2023-11-21T13:37:45.002188900Z"
    }
   },
   "id": "87199889b105dd1f"
  },
  {
   "cell_type": "code",
   "execution_count": 41,
   "outputs": [
    {
     "data": {
      "text/plain": "<div class=\"lists\">\n<div class=\"list-one flex-between\">\n<h4>\n<b class=\"down\"></b>\n5.4  减排行动-供应商企业自主开展碳管理\n（总分：16.00）\n</h4>\n<strong>9.00</strong>\n</div>\n<ul>\n<li>\n<div class=\"list-two flex-between\">\n<h5>\n5.4.1 直接供应商自主核算并公开披露年度排放数据</h5>\n<strong>1.50</strong>\n</div>\n</li>\n<li>\n<div class=\"list-two flex-between\">\n<h5>\n5.4.2 直接供应商自主设定并公开披露目标与进展</h5>\n<strong>0.50</strong>\n</div>\n</li>\n<li>\n<div class=\"list-two flex-between\">\n<h5>\n5.4.3 间接供应商自主核算并公开披露年度排放数据</h5>\n<strong>1.50</strong>\n</div>\n</li>\n<li>\n<div class=\"list-two flex-between\">\n<h5>\n5.4.4 间接供应商自主设定并公开披露目标与进展</h5>\n<strong>0.50</strong>\n</div>\n</li>\n<li>\n<div class=\"list-two flex-between\">\n<h5>\n5.4.5 企业通过蔚蓝生态链或等效自动化系统赋能上游供应商开展供应链碳管理</h5>\n<strong>5.00</strong>\n</div>\n</li>\n</ul>\n</div>"
     },
     "execution_count": 41,
     "metadata": {},
     "output_type": "execute_result"
    }
   ],
   "source": [
    "soup.find_all(\"div\", {\"class\": \"lists\"})[17]"
   ],
   "metadata": {
    "collapsed": false,
    "ExecuteTime": {
     "end_time": "2023-11-21T13:37:47.534815200Z",
     "start_time": "2023-11-21T13:37:47.493545Z"
    }
   },
   "id": "da84f48c39c07168"
  },
  {
   "cell_type": "code",
   "execution_count": 42,
   "outputs": [
    {
     "ename": "IndexError",
     "evalue": "list index out of range",
     "output_type": "error",
     "traceback": [
      "\u001B[1;31m---------------------------------------------------------------------------\u001B[0m",
      "\u001B[1;31mIndexError\u001B[0m                                Traceback (most recent call last)",
      "Cell \u001B[1;32mIn[42], line 1\u001B[0m\n\u001B[1;32m----> 1\u001B[0m \u001B[43msoup\u001B[49m\u001B[38;5;241;43m.\u001B[39;49m\u001B[43mfind_all\u001B[49m\u001B[43m(\u001B[49m\u001B[38;5;124;43m\"\u001B[39;49m\u001B[38;5;124;43mdiv\u001B[39;49m\u001B[38;5;124;43m\"\u001B[39;49m\u001B[43m,\u001B[49m\u001B[43m \u001B[49m\u001B[43m{\u001B[49m\u001B[38;5;124;43m\"\u001B[39;49m\u001B[38;5;124;43mclass\u001B[39;49m\u001B[38;5;124;43m\"\u001B[39;49m\u001B[43m:\u001B[49m\u001B[43m \u001B[49m\u001B[38;5;124;43m\"\u001B[39;49m\u001B[38;5;124;43mlists\u001B[39;49m\u001B[38;5;124;43m\"\u001B[39;49m\u001B[43m}\u001B[49m\u001B[43m)\u001B[49m\u001B[43m[\u001B[49m\u001B[38;5;241;43m18\u001B[39;49m\u001B[43m]\u001B[49m\n",
      "\u001B[1;31mIndexError\u001B[0m: list index out of range"
     ]
    }
   ],
   "source": [
    "soup.find_all(\"div\", {\"class\": \"lists\"})[18]"
   ],
   "metadata": {
    "collapsed": false,
    "ExecuteTime": {
     "end_time": "2023-11-21T13:37:50.791495700Z",
     "start_time": "2023-11-21T13:37:50.741254200Z"
    }
   },
   "id": "9d52be0cd24d5258"
  },
  {
   "cell_type": "code",
   "execution_count": null,
   "outputs": [],
   "source": [],
   "metadata": {
    "collapsed": false
   },
   "id": "ffc519b4b52d7cd1"
  }
 ],
 "metadata": {
  "kernelspec": {
   "display_name": "Python 3",
   "language": "python",
   "name": "python3"
  },
  "language_info": {
   "codemirror_mode": {
    "name": "ipython",
    "version": 2
   },
   "file_extension": ".py",
   "mimetype": "text/x-python",
   "name": "python",
   "nbconvert_exporter": "python",
   "pygments_lexer": "ipython2",
   "version": "2.7.6"
  }
 },
 "nbformat": 4,
 "nbformat_minor": 5
}
