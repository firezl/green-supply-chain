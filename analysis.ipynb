{
 "cells": [
  {
   "cell_type": "code",
   "execution_count": 1,
   "id": "initial_id",
   "metadata": {
    "ExecuteTime": {
     "end_time": "2023-12-06T07:32:09.906970Z",
     "start_time": "2023-12-06T07:32:09.355560Z"
    },
    "collapsed": true
   },
   "outputs": [],
   "source": [
    "import pandas as pd\n",
    "import statsmodels.api as sm\n",
    "import numpy as np\n",
    "import matplotlib.pyplot as plt\n",
    "import seaborn as sns\n",
    "from sklearn import linear_model\n",
    "from sklearn.metrics import mean_squared_error, r2_score\n",
    "from sklearn.model_selection import train_test_split\n",
    "from vars import meaning_dict"
   ]
  },
  {
   "cell_type": "code",
   "execution_count": 2,
   "id": "9476f507",
   "metadata": {},
   "outputs": [
    {
     "data": {
      "text/html": [
       "<div>\n",
       "<style scoped>\n",
       "    .dataframe tbody tr th:only-of-type {\n",
       "        vertical-align: middle;\n",
       "    }\n",
       "\n",
       "    .dataframe tbody tr th {\n",
       "        vertical-align: top;\n",
       "    }\n",
       "\n",
       "    .dataframe thead th {\n",
       "        text-align: right;\n",
       "    }\n",
       "</style>\n",
       "<table border=\"1\" class=\"dataframe\">\n",
       "  <thead>\n",
       "    <tr style=\"text-align: right;\">\n",
       "      <th></th>\n",
       "      <th>Company_name</th>\n",
       "      <th>Company_area</th>\n",
       "      <th>Company_code</th>\n",
       "      <th>Company_industry</th>\n",
       "      <th>CITI</th>\n",
       "      <th>CITI_all_rank</th>\n",
       "      <th>CITI_trade_rank</th>\n",
       "      <th>CATI</th>\n",
       "      <th>CATI_all_rank</th>\n",
       "      <th>CATI_trade_rank</th>\n",
       "      <th>...</th>\n",
       "      <th>rank_Assistant1</th>\n",
       "      <th>rank_Claude-instant0</th>\n",
       "      <th>rank_Claude-instant1</th>\n",
       "      <th>rank_Claude-instant2</th>\n",
       "      <th>rank_GPT-3.5-Turbo0</th>\n",
       "      <th>rank_GPT-3.5-Turbo1</th>\n",
       "      <th>rank_GPT-3.5-Turbo-Instruct0</th>\n",
       "      <th>rank_GPT-3.5-Turbo-Instruct1</th>\n",
       "      <th>rank_GPT-40</th>\n",
       "      <th>rank_Web-Search0</th>\n",
       "    </tr>\n",
       "  </thead>\n",
       "  <tbody>\n",
       "    <tr>\n",
       "      <th>0</th>\n",
       "      <td>李宁有限公司</td>\n",
       "      <td>中国大陆</td>\n",
       "      <td>02331.HK</td>\n",
       "      <td>纺织, 皮革</td>\n",
       "      <td>39.46</td>\n",
       "      <td>39</td>\n",
       "      <td>11</td>\n",
       "      <td>24.8</td>\n",
       "      <td>284</td>\n",
       "      <td>32</td>\n",
       "      <td>...</td>\n",
       "      <td>B</td>\n",
       "      <td>B-</td>\n",
       "      <td>B</td>\n",
       "      <td>B-</td>\n",
       "      <td>C</td>\n",
       "      <td>B</td>\n",
       "      <td>B</td>\n",
       "      <td>C+</td>\n",
       "      <td>C</td>\n",
       "      <td>-</td>\n",
       "    </tr>\n",
       "    <tr>\n",
       "      <th>1</th>\n",
       "      <td>联想集团有限公司</td>\n",
       "      <td>中国大陆</td>\n",
       "      <td>00992.HK</td>\n",
       "      <td>IT/ ICT</td>\n",
       "      <td>46.44</td>\n",
       "      <td>34</td>\n",
       "      <td>9</td>\n",
       "      <td>65.2</td>\n",
       "      <td>15</td>\n",
       "      <td>7</td>\n",
       "      <td>...</td>\n",
       "      <td>A</td>\n",
       "      <td>A-</td>\n",
       "      <td>A+</td>\n",
       "      <td>B</td>\n",
       "      <td>A</td>\n",
       "      <td>A</td>\n",
       "      <td>A</td>\n",
       "      <td>A-</td>\n",
       "      <td>B+</td>\n",
       "      <td>-</td>\n",
       "    </tr>\n",
       "    <tr>\n",
       "      <th>2</th>\n",
       "      <td>雅戈尔集团股份有限公司</td>\n",
       "      <td>中国大陆</td>\n",
       "      <td>600177.SH</td>\n",
       "      <td>纺织</td>\n",
       "      <td>6.40</td>\n",
       "      <td>531</td>\n",
       "      <td>108</td>\n",
       "      <td>7.0</td>\n",
       "      <td>929</td>\n",
       "      <td>117</td>\n",
       "      <td>...</td>\n",
       "      <td>C-</td>\n",
       "      <td>A</td>\n",
       "      <td>C+</td>\n",
       "      <td>B</td>\n",
       "      <td>C-</td>\n",
       "      <td>C-</td>\n",
       "      <td>C-</td>\n",
       "      <td>B-</td>\n",
       "      <td>C-</td>\n",
       "      <td>C</td>\n",
       "    </tr>\n",
       "    <tr>\n",
       "      <th>3</th>\n",
       "      <td>探路者控股集团股份有限公司</td>\n",
       "      <td>中国大陆</td>\n",
       "      <td>300005.SZ</td>\n",
       "      <td>纺织, 皮革</td>\n",
       "      <td>2.00</td>\n",
       "      <td>647</td>\n",
       "      <td>59</td>\n",
       "      <td>2.5</td>\n",
       "      <td>1269</td>\n",
       "      <td>59</td>\n",
       "      <td>...</td>\n",
       "      <td>C</td>\n",
       "      <td>A+</td>\n",
       "      <td>C</td>\n",
       "      <td>C-</td>\n",
       "      <td>C-</td>\n",
       "      <td>C</td>\n",
       "      <td>D</td>\n",
       "      <td>D-</td>\n",
       "      <td>C-</td>\n",
       "      <td>-</td>\n",
       "    </tr>\n",
       "    <tr>\n",
       "      <th>4</th>\n",
       "      <td>青岛啤酒股份有限公司</td>\n",
       "      <td>中国大陆</td>\n",
       "      <td>600600.SH</td>\n",
       "      <td>啤酒</td>\n",
       "      <td>10.70</td>\n",
       "      <td>358</td>\n",
       "      <td>6</td>\n",
       "      <td>16.0</td>\n",
       "      <td>508</td>\n",
       "      <td>6</td>\n",
       "      <td>...</td>\n",
       "      <td>B+</td>\n",
       "      <td>A</td>\n",
       "      <td>A</td>\n",
       "      <td>A-</td>\n",
       "      <td>B</td>\n",
       "      <td>B</td>\n",
       "      <td>B+</td>\n",
       "      <td>B</td>\n",
       "      <td>B</td>\n",
       "      <td>B</td>\n",
       "    </tr>\n",
       "    <tr>\n",
       "      <th>...</th>\n",
       "      <td>...</td>\n",
       "      <td>...</td>\n",
       "      <td>...</td>\n",
       "      <td>...</td>\n",
       "      <td>...</td>\n",
       "      <td>...</td>\n",
       "      <td>...</td>\n",
       "      <td>...</td>\n",
       "      <td>...</td>\n",
       "      <td>...</td>\n",
       "      <td>...</td>\n",
       "      <td>...</td>\n",
       "      <td>...</td>\n",
       "      <td>...</td>\n",
       "      <td>...</td>\n",
       "      <td>...</td>\n",
       "      <td>...</td>\n",
       "      <td>...</td>\n",
       "      <td>...</td>\n",
       "      <td>...</td>\n",
       "      <td>...</td>\n",
       "    </tr>\n",
       "    <tr>\n",
       "      <th>210</th>\n",
       "      <td>周黑鸭国际控股有限公司</td>\n",
       "      <td>中国大陆</td>\n",
       "      <td>01458.HK</td>\n",
       "      <td>食品饮料</td>\n",
       "      <td>7.54</td>\n",
       "      <td>487</td>\n",
       "      <td>48</td>\n",
       "      <td>10.2</td>\n",
       "      <td>753</td>\n",
       "      <td>44</td>\n",
       "      <td>...</td>\n",
       "      <td>C</td>\n",
       "      <td>B</td>\n",
       "      <td>B</td>\n",
       "      <td>B-</td>\n",
       "      <td>B</td>\n",
       "      <td>C-</td>\n",
       "      <td>B</td>\n",
       "      <td>B</td>\n",
       "      <td>C</td>\n",
       "      <td>-</td>\n",
       "    </tr>\n",
       "    <tr>\n",
       "      <th>211</th>\n",
       "      <td>嘉士利集团有限公司</td>\n",
       "      <td>中国大陆</td>\n",
       "      <td>01285.HK</td>\n",
       "      <td>食品饮料</td>\n",
       "      <td>8.92</td>\n",
       "      <td>433</td>\n",
       "      <td>44</td>\n",
       "      <td>9.6</td>\n",
       "      <td>782</td>\n",
       "      <td>48</td>\n",
       "      <td>...</td>\n",
       "      <td>C</td>\n",
       "      <td>B-</td>\n",
       "      <td>B+</td>\n",
       "      <td>B</td>\n",
       "      <td>B</td>\n",
       "      <td>B</td>\n",
       "      <td>A-</td>\n",
       "      <td>B+</td>\n",
       "      <td>C+</td>\n",
       "      <td>-</td>\n",
       "    </tr>\n",
       "    <tr>\n",
       "      <th>212</th>\n",
       "      <td>绿城中国控股有限公司</td>\n",
       "      <td>中国大陆</td>\n",
       "      <td>03900.HK</td>\n",
       "      <td>房地产建筑</td>\n",
       "      <td>8.08</td>\n",
       "      <td>463</td>\n",
       "      <td>42</td>\n",
       "      <td>16.4</td>\n",
       "      <td>496</td>\n",
       "      <td>9</td>\n",
       "      <td>...</td>\n",
       "      <td>B</td>\n",
       "      <td>B-</td>\n",
       "      <td>A-</td>\n",
       "      <td>B-</td>\n",
       "      <td>A-</td>\n",
       "      <td>A</td>\n",
       "      <td>A</td>\n",
       "      <td>A-</td>\n",
       "      <td>B-</td>\n",
       "      <td>-</td>\n",
       "    </tr>\n",
       "    <tr>\n",
       "      <th>213</th>\n",
       "      <td>深圳传音控股股份有限公司</td>\n",
       "      <td>中国大陆</td>\n",
       "      <td>688036.SH</td>\n",
       "      <td>IT/ ICT</td>\n",
       "      <td>9.00</td>\n",
       "      <td>428</td>\n",
       "      <td>60</td>\n",
       "      <td>5.0</td>\n",
       "      <td>1054</td>\n",
       "      <td>94</td>\n",
       "      <td>...</td>\n",
       "      <td>B</td>\n",
       "      <td>C</td>\n",
       "      <td>B</td>\n",
       "      <td>B-</td>\n",
       "      <td>C</td>\n",
       "      <td>B-</td>\n",
       "      <td>C+</td>\n",
       "      <td>C+</td>\n",
       "      <td>B-</td>\n",
       "      <td>-</td>\n",
       "    </tr>\n",
       "    <tr>\n",
       "      <th>214</th>\n",
       "      <td>广东丸美生物技术股份有限公司</td>\n",
       "      <td>中国大陆</td>\n",
       "      <td>603983.SH</td>\n",
       "      <td>日化</td>\n",
       "      <td>9.80</td>\n",
       "      <td>393</td>\n",
       "      <td>20</td>\n",
       "      <td>11.5</td>\n",
       "      <td>699</td>\n",
       "      <td>21</td>\n",
       "      <td>...</td>\n",
       "      <td>B+</td>\n",
       "      <td>B</td>\n",
       "      <td>A-</td>\n",
       "      <td>B+</td>\n",
       "      <td>A</td>\n",
       "      <td>A</td>\n",
       "      <td>A</td>\n",
       "      <td>A</td>\n",
       "      <td>B</td>\n",
       "      <td>A</td>\n",
       "    </tr>\n",
       "  </tbody>\n",
       "</table>\n",
       "<p>215 rows × 147 columns</p>\n",
       "</div>"
      ],
      "text/plain": [
       "       Company_name Company_area Company_code Company_industry   CITI  \\\n",
       "0            李宁有限公司         中国大陆     02331.HK           纺织, 皮革  39.46   \n",
       "1          联想集团有限公司         中国大陆     00992.HK          IT/ ICT  46.44   \n",
       "2       雅戈尔集团股份有限公司         中国大陆    600177.SH               纺织   6.40   \n",
       "3     探路者控股集团股份有限公司         中国大陆    300005.SZ           纺织, 皮革   2.00   \n",
       "4        青岛啤酒股份有限公司         中国大陆    600600.SH               啤酒  10.70   \n",
       "..              ...          ...          ...              ...    ...   \n",
       "210     周黑鸭国际控股有限公司         中国大陆     01458.HK             食品饮料   7.54   \n",
       "211       嘉士利集团有限公司         中国大陆     01285.HK             食品饮料   8.92   \n",
       "212      绿城中国控股有限公司         中国大陆     03900.HK            房地产建筑   8.08   \n",
       "213    深圳传音控股股份有限公司         中国大陆    688036.SH          IT/ ICT   9.00   \n",
       "214  广东丸美生物技术股份有限公司         中国大陆    603983.SH               日化   9.80   \n",
       "\n",
       "     CITI_all_rank  CITI_trade_rank  CATI  CATI_all_rank  CATI_trade_rank  \\\n",
       "0               39               11  24.8            284               32   \n",
       "1               34                9  65.2             15                7   \n",
       "2              531              108   7.0            929              117   \n",
       "3              647               59   2.5           1269               59   \n",
       "4              358                6  16.0            508                6   \n",
       "..             ...              ...   ...            ...              ...   \n",
       "210            487               48  10.2            753               44   \n",
       "211            433               44   9.6            782               48   \n",
       "212            463               42  16.4            496                9   \n",
       "213            428               60   5.0           1054               94   \n",
       "214            393               20  11.5            699               21   \n",
       "\n",
       "     ...  rank_Assistant1  rank_Claude-instant0  rank_Claude-instant1  \\\n",
       "0    ...                B                    B-                     B   \n",
       "1    ...                A                    A-                    A+   \n",
       "2    ...               C-                     A                    C+   \n",
       "3    ...                C                    A+                     C   \n",
       "4    ...               B+                     A                     A   \n",
       "..   ...              ...                   ...                   ...   \n",
       "210  ...                C                     B                     B   \n",
       "211  ...                C                    B-                    B+   \n",
       "212  ...                B                    B-                    A-   \n",
       "213  ...                B                     C                     B   \n",
       "214  ...               B+                     B                    A-   \n",
       "\n",
       "     rank_Claude-instant2  rank_GPT-3.5-Turbo0  rank_GPT-3.5-Turbo1  \\\n",
       "0                      B-                    C                    B   \n",
       "1                       B                    A                    A   \n",
       "2                       B                   C-                   C-   \n",
       "3                      C-                   C-                    C   \n",
       "4                      A-                    B                    B   \n",
       "..                    ...                  ...                  ...   \n",
       "210                    B-                    B                   C-   \n",
       "211                     B                    B                    B   \n",
       "212                    B-                   A-                    A   \n",
       "213                    B-                    C                   B-   \n",
       "214                    B+                    A                    A   \n",
       "\n",
       "     rank_GPT-3.5-Turbo-Instruct0  rank_GPT-3.5-Turbo-Instruct1  rank_GPT-40  \\\n",
       "0                               B                            C+            C   \n",
       "1                               A                            A-           B+   \n",
       "2                              C-                            B-           C-   \n",
       "3                               D                            D-           C-   \n",
       "4                              B+                             B            B   \n",
       "..                            ...                           ...          ...   \n",
       "210                             B                             B            C   \n",
       "211                            A-                            B+           C+   \n",
       "212                             A                            A-           B-   \n",
       "213                            C+                            C+           B-   \n",
       "214                             A                             A            B   \n",
       "\n",
       "     rank_Web-Search0  \n",
       "0                   -  \n",
       "1                   -  \n",
       "2                   C  \n",
       "3                   -  \n",
       "4                   B  \n",
       "..                ...  \n",
       "210                 -  \n",
       "211                 -  \n",
       "212                 -  \n",
       "213                 -  \n",
       "214                 A  \n",
       "\n",
       "[215 rows x 147 columns]"
      ]
     },
     "execution_count": 2,
     "metadata": {},
     "output_type": "execute_result"
    }
   ],
   "source": [
    "all_data = pd.read_excel(\"./data/data_cn_lc.xlsx\")\n",
    "all_data = all_data.drop(columns=['Unnamed: 0'])\n",
    "all_data"
   ]
  },
  {
   "cell_type": "code",
   "execution_count": 15,
   "id": "089ac918",
   "metadata": {},
   "outputs": [
    {
     "data": {
      "text/plain": [
       "count    90.000000\n",
       "mean      5.320207\n",
       "std      12.008817\n",
       "min       0.000900\n",
       "25%       0.308368\n",
       "50%       0.764738\n",
       "75%       3.498061\n",
       "max      61.724934\n",
       "Name: SC_CCHHI, dtype: float64"
      ]
     },
     "execution_count": 15,
     "metadata": {},
     "output_type": "execute_result"
    }
   ],
   "source": [
    "CE = all_data[\"SC_CCHHI\"].copy()\n",
    "CE = CE.dropna()\n",
    "CE = CE.reset_index(drop=True)\n",
    "CE.describe()"
   ]
  },
  {
   "cell_type": "code",
   "execution_count": 6,
   "id": "e05723c2",
   "metadata": {},
   "outputs": [
    {
     "data": {
      "text/plain": [
       "19      0.000000\n",
       "20    209.012876\n",
       "65    865.940054\n",
       "Name: CEmission, dtype: float64"
      ]
     },
     "execution_count": 6,
     "metadata": {},
     "output_type": "execute_result"
    }
   ],
   "source": [
    "CE = CE[CE < 1000]\n",
    "CE"
   ]
  },
  {
   "cell_type": "code",
   "execution_count": 25,
   "id": "3dce1ef6",
   "metadata": {},
   "outputs": [],
   "source": [
    "ccxgf_1_dict = {\"C\":1, \"B\":2,\"BB\":3,\"BBB-\":4,\"BBB\":5,\"BBB+\":6, \"A-\":7,\"A\":8,\"AA-\":9,\"A+\":10}\n",
    "ccxgf_2_dict = {\"B\":1,\"BB\":2,\"BBB-\":3,\"BBB\":4,\"BBB+\":5, \"A-\":6,\"A\":7,\"AA-\":8,\"AA\":9, \"A+\": 10}\n",
    "ccxi_dict = {'na':0, \"B\":1,\"BB\":2,\"BBB-\":3,\"BBB\":4,\"BBB+\":5, \"A-\":6,\"A\":7,\"AA-\":8,\"AA\":9, \"A+\": 10}\n",
    "iigf_dict = {'na':0, \"D-\":1,\"D\":2,\"D+\":3,\"C-\":4,\"C\":5, \"C+\":6,\"B-\":7,\"B\":8,\"B+\":9, \"A-\": 10, \"A\":11, \"A+\":12}\n",
    "syntaogf_dict = {'na':0, \"C+\":1,\"B-\":2,\"B\":3,\"B+\":4,\"A-\":5, \"A\":6}"
   ]
  },
  {
   "cell_type": "code",
   "execution_count": 28,
   "id": "b93da228",
   "metadata": {},
   "outputs": [],
   "source": [
    "esg_ccxgf_1 = all_data[\"Environment\"].apply(lambda x: ccxgf_1_dict[x]).to_numpy()\n",
    "esg_ccxgf_2 = all_data[\"ESG_ccxgf\"].apply(lambda x: ccxgf_2_dict[x]).to_numpy()\n",
    "esg_ccxi = all_data[\"ESG_ccxi\"].fillna(\"na\").apply(lambda x: ccxi_dict[x]).to_numpy()\n",
    "esg_iigf = all_data[\"ESG_iigf\"].fillna(\"na\").apply(lambda x: iigf_dict[x]).to_numpy()\n",
    "esg_iigf_sf = all_data[\"ESG_iigf_sf\"].fillna(\"na\").apply(lambda x: iigf_dict[x]).to_numpy()\n",
    "esg_syntaogf = all_data[\"ESG_syntaogf\"].fillna(\"na\").apply(lambda x: syntaogf_dict[x]).to_numpy()"
   ]
  },
  {
   "cell_type": "code",
   "execution_count": 59,
   "id": "4660ece7",
   "metadata": {},
   "outputs": [],
   "source": [
    "esg_gt = [esg_ccxgf_1, esg_ccxgf_2, esg_ccxi, esg_iigf, esg_iigf_sf, esg_syntaogf]"
   ]
  },
  {
   "cell_type": "code",
   "execution_count": 51,
   "id": "ab30cacd",
   "metadata": {},
   "outputs": [],
   "source": [
    "assistant_1_dict = {\"N/\":0, \"E\":1, \"D-\": 2,\"D\":3,\"C-\":4,\"C\":5,\"C+\":6,\"B-\":7,\"B\":8,\"B+\":9,\"A-\":10,\"A\":11,\"A+\":12}\n",
    "assistant_2_dict = {\"D\":1,\"C-\":2,\"C\":3,\"C+\":4,\"B-\":5,\"B\":6,\"B+\":7,\"A-\":8,\"A\":9,\"A+\":10}\n",
    "assistant_3_dict = {\"D-\": 1,\"D\":2,\"C-\":3,\"C\":4,\"C+\":5,\"B-\":6,\"B\":7,\"B+\":8,\"A-\":9,\"A\":10,\"A+\":11}\n",
    "chatgpt_1_dict = {\"D\":1,\"C-\":2,\"C\":3,\"C+\":4,\"B-\":5,\"B\":6,\"B+\":7,\"A-\":8,\"A\":9,\"A+\":10}\n",
    "chatgpt_2_dict = {\"D-\":1,\"D\":2,\"D+\":3,\"C-\":4,\"C\":5,\"C+\":6,\"B-\":7,\"B\":8,\"B+\":9,\"A-\":10,\"A\":11,\"A+\":12}\n",
    "chatgpt_3_dict = {\"D-\":1,\"D\":2,\"D+\":3,\"C-\":4,\"C\":5,\"C+\":6,\"B-\":7,\"B\":8,\"B+\":9,\"A-\":10,\"A\":11,\"A+\":12}\n",
    "gpt3_5_t_1_dict = {\"D\":1,\"C-\":2,\"C\":3,\"C+\":4,\"B-\":5,\"B\":6,\"B+\":7,\"A-\":8,\"A\":9,\"A+\":10}\n",
    "gpt3_5_t_2_dict = {\"D\":1,\"C-\":2,\"C\":3,\"C+\":4,\"B-\":5,\"B\":6,\"B+\":7,\"A-\":8,\"A\":9,\"A+\":10}\n",
    "gpt3_5_t_3_dict = {\"D\":1,\"C-\":2,\"C\":3,\"C+\":4,\"B-\":5,\"B\":6,\"B+\":7,\"A-\":8,\"A\":9,\"A+\":10}\n",
    "gpt3_5_i_1_dict = {\"D-\":1,\"D\":2,\"D+\":3,\"C-\":4,\"C\":5,\"C.\":5,\"C \":5,\"C+\":6,\"B-\":7,\"B\":8,\"B.\":8,\"B+\":9,\"A-\":10,\"A\":11,\"A+\":12}\n",
    "gpt3_5_i_2_dict = {\"D\":1,\"D+\":2,\"C-\":3,\"C\":4,\"C+\":5,\"B-\":6,\"B\":7,\"B+\":8,\"A-\":9,\"A\":10,\"A+\":11}\n",
    "gpt3_5_i_3_dict = {\"D-\":1,\"D\":2,\"C-\":3,\"C\":4,\"C+\":5,\"B-\":6,\"B\":7,\"B+\":8,\"A-\":9,\"A\":10,\"A+\":11}\n",
    "gpt4_dict = {\"D\":1,\"D+\":2,\"C-\":3,\"C\":4,\"C+\":5,\"B-\":6,\"B\":7,\"B+\":8,\"A-\":9,\"A\":10,\"A+\":11}\n",
    "claude_1_dict = {\"C-\":1,\"C\":2,\"C+\":3,\"B-\":4,\"B\":5,\"B+\":6,\"A-\":7,\"A\":8,\"A+\":9}\n",
    "claude_2_dict = {\"C-\":1,\"C\":2,\"C+\":3,\"B-\":4,\"B\":5,\"B+\":6,\"A-\":7,\"A\":8,\"A+\":9}\n",
    "claude_3_dict = {\"C-\":1,\"C\":2,\"C+\":3,\"B-\":4,\"B\":5,\"B+\":6,\"A-\":7,\"A\":8}"
   ]
  },
  {
   "cell_type": "code",
   "execution_count": 52,
   "id": "33fb051d",
   "metadata": {},
   "outputs": [],
   "source": [
    "esg_assistant_1 = all_data[\"rank_Assistant\"].apply(lambda x: assistant_1_dict[x]).to_numpy()\n",
    "esg_assistant_2 = all_data[\"rank_Assistant0\"].apply(lambda x: assistant_2_dict[x]).to_numpy()\n",
    "esg_assistant_3 = all_data[\"rank_Assistant1\"].apply(lambda x: assistant_3_dict[x]).to_numpy()\n",
    "esg_chatgpt_1 = all_data[\"rank_ChatGPT\"].apply(lambda x: chatgpt_1_dict[x]).to_numpy()\n",
    "esg_chatgpt_2 = all_data[\"rank_ChatGPT0\"].apply(lambda x: chatgpt_2_dict[x]).to_numpy()\n",
    "esg_chatgpt_3 = all_data[\"rank_ChatGPT1\"].apply(lambda x: chatgpt_3_dict[x]).to_numpy()\n",
    "esg_gpt3_5_t_1 = all_data[\"rank_GPT-3.5-Turbo\"].apply(lambda x: gpt3_5_t_1_dict[x]).to_numpy()\n",
    "esg_gpt3_5_t_2 = all_data[\"rank_GPT-3.5-Turbo0\"].apply(lambda x: gpt3_5_t_2_dict[x]).to_numpy()\n",
    "esg_gpt3_5_t_3 = all_data[\"rank_GPT-3.5-Turbo1\"].apply(lambda x: gpt3_5_t_3_dict[x]).to_numpy()\n",
    "esg_gpt3_5_i_1 = all_data[\"rank_GPT-3.5-Turbo-Instruct\"].apply(lambda x: gpt3_5_i_1_dict[x]).to_numpy()\n",
    "esg_gpt3_5_i_2 = all_data[\"rank_GPT-3.5-Turbo-Instruct0\"].apply(lambda x: gpt3_5_i_2_dict[x]).to_numpy()\n",
    "esg_gpt3_5_i_3 = all_data[\"rank_GPT-3.5-Turbo-Instruct1\"].apply(lambda x: gpt3_5_i_3_dict[x]).to_numpy()\n",
    "esg_gpt4 = all_data[\"rank_GPT-40\"].apply(lambda x: gpt4_dict[x]).to_numpy()\n",
    "esg_claude_1 = all_data[\"rank_Claude-instant0\"].apply(lambda x: claude_1_dict[x]).to_numpy()\n",
    "esg_claude_2 = all_data[\"rank_Claude-instant1\"].apply(lambda x: claude_2_dict[x]).to_numpy()\n",
    "esg_claude_3 = all_data[\"rank_Claude-instant2\"].apply(lambda x: claude_3_dict[x]).to_numpy()"
   ]
  },
  {
   "cell_type": "code",
   "execution_count": 53,
   "id": "725951f6",
   "metadata": {},
   "outputs": [
    {
     "data": {
      "text/plain": [
       "array([1, 2, 3, 4, 5, 6, 7, 8], dtype=int64)"
      ]
     },
     "execution_count": 53,
     "metadata": {},
     "output_type": "execute_result"
    }
   ],
   "source": [
    "np.unique(esg_claude_3)"
   ]
  },
  {
   "cell_type": "code",
   "execution_count": 54,
   "id": "5b071764",
   "metadata": {},
   "outputs": [],
   "source": [
    "esg_pr = [esg_assistant_1, esg_assistant_2, esg_assistant_3, esg_chatgpt_1, esg_chatgpt_2, esg_chatgpt_3, esg_gpt3_5_t_1, esg_gpt3_5_t_2, esg_gpt3_5_t_3, esg_gpt3_5_i_1, esg_gpt3_5_i_2, esg_gpt3_5_i_3, esg_gpt4, esg_claude_1, esg_claude_2, esg_claude_3]"
   ]
  },
  {
   "cell_type": "code",
   "execution_count": 57,
   "id": "058ed237",
   "metadata": {},
   "outputs": [],
   "source": [
    "def re_histogram(esg, p):\n",
    "    hist = []\n",
    "    for i in range(0,int(esg.max())+1):\n",
    "        hist = np.append(hist, np.sum(esg == i))\n",
    "    re_hist = np.zeros(p)\n",
    "    re_dict = {}\n",
    "    partition = np.round(hist.sum()/p)\n",
    "    index = 0\n",
    "    for i,v in enumerate(hist):\n",
    "        if v <= partition - re_hist[index]:\n",
    "            re_hist[index] += v\n",
    "            re_dict[i] = index\n",
    "        else:\n",
    "            if v + re_hist[index] > partition * 1.2:\n",
    "                index += 1\n",
    "                if index == p:\n",
    "                    index = p - 1\n",
    "                    re_hist[index] += v\n",
    "                    re_dict[i] = index\n",
    "                else:\n",
    "                    re_hist[index] += v\n",
    "                    re_dict[i] = index\n",
    "            else:\n",
    "                re_hist[index] += v\n",
    "                re_dict[i] = index\n",
    "                index += 1\n",
    "                if index == p:\n",
    "                    index = p - 1\n",
    "    return re_dict"
   ]
  },
  {
   "cell_type": "code",
   "execution_count": 67,
   "id": "cdc9d46b",
   "metadata": {},
   "outputs": [
    {
     "name": "stdout",
     "output_type": "stream",
     "text": [
      "2.4465116279069767 -0.37435286683032354 0.30697674418604654\n",
      "0 0\n",
      "2.8046511627906976 -0.5755414043701237 0.25116279069767444\n",
      "0 1\n",
      "2.744186046511628 -0.5415745084218457 0.2651162790697674\n",
      "0 2\n",
      "2.883720930232558 -0.6199596529178717 0.24651162790697675\n",
      "0 3\n",
      "2.6790697674418604 -0.5049947743237002 0.2558139534883721\n",
      "0 4\n",
      "2.395348837209302 -0.3456116471817805 0.24186046511627907\n",
      "0 5\n",
      "2.7255813953488373 -0.5311231558223755 0.30697674418604654\n",
      "0 6\n",
      "2.8465116279069766 -0.5990569477189314 0.3023255813953488\n",
      "0 7\n",
      "3.027906976744186 -0.7009576355637652 0.26976744186046514\n",
      "0 8\n",
      "2.9209302325581397 -0.640862358116812 0.2744186046511628\n",
      "0 9\n",
      "3.227906976744186 -0.8133096760080694 0.25116279069767444\n",
      "0 10\n",
      "2.5767441860465117 -0.44751233502661436 0.29767441860465116\n",
      "0 11\n",
      "2.4232558139534883 -0.3612886760809857 0.2837209302325581\n",
      "0 12\n",
      "2.5953488372093023 -0.45796368762608464 0.2651162790697674\n",
      "0 13\n",
      "2.9302325581395348 -0.6460880344165472 0.2930232558139535\n",
      "0 14\n",
      "2.8232558139534882 -0.5859927569695937 0.2930232558139535\n",
      "0 15\n",
      "0.30697674418604654 0\n",
      "2.4651162790697674 -0.34986258529188774 0.35348837209302325\n",
      "1 0\n",
      "2.562790697674419 -0.4033477065959059 0.3302325581395349\n",
      "1 1\n",
      "2.5395348837209304 -0.39061315390447304 0.3488372093023256\n",
      "1 2\n",
      "2.7162790697674417 -0.487395754359363 0.37209302325581395\n",
      "1 3\n",
      "2.7255813953488373 -0.4924895754359362 0.3395348837209302\n",
      "1 4\n",
      "2.786046511627907 -0.5255994124336618 0.28837209302325584\n",
      "1 5\n",
      "2.5953488372093023 -0.42117608036391196 0.3581395348837209\n",
      "1 6\n",
      "2.2232558139534886 -0.21742323730098545 0.34418604651162793\n",
      "1 7\n",
      "2.469767441860465 -0.3524094958301742 0.30697674418604654\n",
      "1 8\n",
      "2.2511627906976743 -0.23270470053070502 0.35348837209302325\n",
      "1 9\n",
      "3.1534883720930234 -0.7268053449583016 0.26046511627906976\n",
      "1 10\n",
      "2.744186046511628 -0.5026772175890826 0.26976744186046514\n",
      "1 11\n",
      "2.2930232558139534 -0.25562689537528427 0.33488372093023255\n",
      "1 12\n",
      "3.0790697674418603 -0.6860547763457163 0.2651162790697674\n",
      "1 13\n",
      "2.4651162790697674 -0.34986258529188774 0.3023255813953488\n",
      "1 14\n",
      "2.386046511627907 -0.30656510614101573 0.3023255813953488\n",
      "1 15\n",
      "0.37209302325581395 3\n",
      "2.461904761904762 -0.3598276574692201 0.35714285714285715\n",
      "2 0\n",
      "2.5095238095238095 -0.38612993324231915 0.3380952380952381\n",
      "2 1\n",
      "2.5 -0.38086947808769933 0.35714285714285715\n",
      "2 2\n",
      "2.6666666666666665 -0.47292744329354597 0.38095238095238093\n",
      "2 3\n",
      "2.6714285714285713 -0.47555767087085576 0.3523809523809524\n",
      "2 4\n",
      "2.761904761904762 -0.5255319948397439 0.29523809523809524\n",
      "2 5\n",
      "2.552380952380952 -0.4098019814381082 0.37142857142857144\n",
      "2 6\n",
      "2.1809523809523808 -0.20464423040793567 0.35714285714285715\n",
      "2 7\n",
      "2.3714285714285714 -0.30985333350033195 0.319047619047619\n",
      "2 8\n",
      "2.1952380952380954 -0.2125349131398655 0.36666666666666664\n",
      "2 9\n",
      "3.0952380952380953 -0.7096479252514372 0.2714285714285714\n",
      "2 10\n",
      "2.8047619047619046 -0.5492040430355332 0.26666666666666666\n",
      "2 11\n",
      "2.2666666666666666 -0.251988326799514 0.34285714285714286\n",
      "2 12\n",
      "3.057142857142857 -0.6886061046329579 0.2761904761904762\n",
      "2 13\n",
      "2.380952380952381 -0.31511378865495177 0.30952380952380953\n",
      "2 14\n",
      "2.342857142857143 -0.2940719680364725 0.3047619047619048\n",
      "2 15\n",
      "0.38095238095238093 3\n",
      "3.7482014388489207 -0.5730949691545746 0.2949640287769784\n",
      "3 0\n",
      "3.841726618705036 -0.6123468589799286 0.2589928057553957\n",
      "3 1\n",
      "3.820143884892086 -0.6032887305586931 0.28776978417266186\n",
      "3 2\n",
      "3.841726618705036 -0.6123468589799286 0.2302158273381295\n",
      "3 3\n",
      "3.8920863309352516 -0.6334824919628117 0.28776978417266186\n",
      "3 4\n",
      "3.58273381294964 -0.503649317925102 0.2446043165467626\n",
      "3 5\n",
      "3.985611510791367 -0.6727343817881657 0.2949640287769784\n",
      "3 6\n",
      "3.2158273381294964 -0.34966113476409766 0.30935251798561153\n",
      "3 7\n",
      "3.5467625899280577 -0.48855243722304276 0.302158273381295\n",
      "3 8\n",
      "3.4820143884892087 -0.461378051959336 0.2158273381294964\n",
      "3 9\n",
      "3.7338129496402876 -0.567056216873751 0.26618705035971224\n",
      "3 10\n",
      "3.223021582733813 -0.35268051090450947 0.23741007194244604\n",
      "3 11\n",
      "3.2805755395683454 -0.3768355200278042 0.2733812949640288\n",
      "3 12\n",
      "3.5467625899280577 -0.48855243722304276 0.26618705035971224\n",
      "3 13\n",
      "3.5107913669064748 -0.4734555565209835 0.26618705035971224\n",
      "3 14\n",
      "3.3884892086330933 -0.422126162133982 0.2805755395683453\n",
      "3 15\n",
      "0.30935251798561153 7\n",
      "3.4404761904761907 -0.5455529381804289 0.27380952380952384\n",
      "4 0\n",
      "3.4166666666666665 -0.5348570700961353 0.2261904761904762\n",
      "4 1\n",
      "2.9404761904761907 -0.32093970841026276 0.2857142857142857\n",
      "4 2\n",
      "4.25 -0.9092124530464121 0.25\n",
      "4 3\n",
      "3.4166666666666665 -0.5348570700961353 0.2857142857142857\n",
      "4 4\n",
      "3.4523809523809526 -0.5509008722225757 0.2857142857142857\n",
      "4 5\n",
      "3.9285714285714284 -0.7648182339084482 0.25\n",
      "4 6\n",
      "3.4166666666666665 -0.5348570700961353 0.27380952380952384\n",
      "4 7\n",
      "3.0952380952380953 -0.39046285095817135 0.2976190476190476\n",
      "4 8\n",
      "3.2976190476190474 -0.4813777296746671 0.19047619047619047\n",
      "4 9\n",
      "3.1666666666666665 -0.42255045521105217 0.25\n",
      "4 10\n",
      "3.488095238095238 -0.5669446743490161 0.35714285714285715\n",
      "4 11\n",
      "3.4047619047619047 -0.5295091360539883 0.2976190476190476\n",
      "4 12\n",
      "3.2261904761904763 -0.44929012542178626 0.25\n",
      "4 13\n",
      "3.3333333333333335 -0.4974215318011075 0.25\n",
      "4 14\n",
      "3.4285714285714284 -0.540205004138282 0.25\n",
      "4 15\n",
      "0.35714285714285715 11\n",
      "1.9455445544554455 -0.4582292432035264 0.3118811881188119\n",
      "5 0\n",
      "2.1881188118811883 -0.6400440852314471 0.2722772277227723\n",
      "5 1\n",
      "2.207920792079208 -0.6548861131520936 0.27722772277227725\n",
      "5 2\n",
      "2.1584158415841586 -0.6177810433504771 0.2524752475247525\n",
      "5 3\n",
      "2.00990099009901 -0.5064658339456278 0.2524752475247525\n",
      "5 4\n",
      "2.49009900990099 -0.8663850110213074 0.21287128712871287\n",
      "5 5\n",
      "2.257425742574257 -0.6919911829537102 0.2524752475247525\n",
      "5 6\n",
      "2.2475247524752477 -0.6845701689933867 0.2524752475247525\n",
      "5 7\n",
      "2.3366336633663365 -0.7513592946362964 0.24257425742574257\n",
      "5 8\n",
      "2.5841584158415842 -0.9368846436443787 0.22277227722772278\n",
      "5 9\n",
      "2.6386138613861387 -0.9777002204261567 0.19801980198019803\n",
      "5 10\n",
      "2.1386138613861387 -0.6029390154298306 0.2376237623762376\n",
      "5 11\n",
      "1.9455445544554455 -0.4582292432035264 0.24257425742574257\n",
      "5 12\n",
      "2.207920792079208 -0.6548861131520936 0.2524752475247525\n",
      "5 13\n",
      "2.5 -0.8738060249816306 0.27722772277227725\n",
      "5 14\n",
      "2.257425742574257 -0.6919911829537102 0.2524752475247525\n",
      "5 15\n",
      "0.3118811881188119 0\n",
      "0.32916666666666666 2\n"
     ]
    }
   ],
   "source": [
    "gt_acu = []\n",
    "for ii, vi in enumerate(esg_gt):\n",
    "    gt_index = np.where(vi != 0)[0]\n",
    "    data_gt = vi[gt_index]\n",
    "    hist_gt = re_histogram(data_gt, 5)\n",
    "    data_gt = np.array([hist_gt[i] for i in data_gt])\n",
    "    pr_acu = []\n",
    "    for jj, vj in enumerate(esg_pr):\n",
    "        data_pr = vj[gt_index]\n",
    "        hist_pr = re_histogram(data_pr, 5)\n",
    "        data_pr = np.array([hist_pr[i] for i in data_pr])\n",
    "        acu = len(np.where(data_gt == data_pr)[0])/len(data_gt)\n",
    "        print(mean_squared_error(data_gt, data_pr), r2_score(data_gt, data_pr), acu)\n",
    "        pr_acu.append(acu)\n",
    "        print(ii, jj)\n",
    "    pr_acu = np.array(pr_acu)\n",
    "    print(max(pr_acu), np.argmax(pr_acu))\n",
    "    gt_acu.append(pr_acu.mean())\n",
    "print(max(gt_acu), np.argmax(gt_acu))\n",
    "\n",
    "\n",
    "\n"
   ]
  },
  {
   "cell_type": "code",
   "execution_count": 58,
   "id": "defad8bc",
   "metadata": {},
   "outputs": [
    {
     "data": {
      "text/plain": [
       "{0: 0,\n",
       " 1: 0,\n",
       " 2: 0,\n",
       " 3: 0,\n",
       " 4: 1,\n",
       " 5: 2,\n",
       " 6: 2,\n",
       " 7: 3,\n",
       " 8: 3,\n",
       " 9: 4,\n",
       " 10: 4,\n",
       " 11: 5,\n",
       " 12: 5}"
      ]
     },
     "execution_count": 58,
     "metadata": {},
     "output_type": "execute_result"
    }
   ],
   "source": [
    "re_histogram(esg_gpt3_5_i_1, 6)"
   ]
  },
  {
   "cell_type": "code",
   "execution_count": 55,
   "id": "78bafa56",
   "metadata": {},
   "outputs": [
    {
     "name": "stdout",
     "output_type": "stream",
     "text": [
      "0.046511627906976744\n",
      "0.19534883720930232\n",
      "0.07906976744186046\n",
      "0.11162790697674418\n",
      "0.06511627906976744\n",
      "0.06976744186046512\n",
      "0.12558139534883722\n",
      "0.05116279069767442\n",
      "0.06976744186046512\n",
      "0.06511627906976744\n",
      "0.023255813953488372\n",
      "0.046511627906976744\n",
      "0.08837209302325581\n",
      "0.19534883720930232\n",
      "0.16744186046511628\n",
      "0.16279069767441862\n",
      "0.07906976744186046\n",
      "0.13488372093023257\n",
      "0.17674418604651163\n",
      "0.09767441860465116\n",
      "0.07906976744186046\n",
      "0.10232558139534884\n",
      "0.12093023255813953\n",
      "0.12093023255813953\n",
      "0.13488372093023257\n",
      "0.09302325581395349\n",
      "0.05581395348837209\n",
      "0.08372093023255814\n",
      "0.13023255813953488\n",
      "0.14418604651162792\n",
      "0.17674418604651163\n",
      "0.12558139534883722\n",
      "0.07906976744186046\n",
      "0.13023255813953488\n",
      "0.17674418604651163\n",
      "0.08837209302325581\n",
      "0.07906976744186046\n",
      "0.10232558139534884\n",
      "0.11627906976744186\n",
      "0.11627906976744186\n",
      "0.12558139534883722\n",
      "0.09302325581395349\n",
      "0.05116279069767442\n",
      "0.08837209302325581\n",
      "0.13023255813953488\n",
      "0.13953488372093023\n",
      "0.17209302325581396\n",
      "0.12093023255813953\n",
      "0.10232558139534884\n",
      "0.08837209302325581\n",
      "0.06046511627906977\n",
      "0.08837209302325581\n",
      "0.06511627906976744\n",
      "0.06976744186046512\n",
      "0.06046511627906977\n",
      "0.05581395348837209\n",
      "0.07441860465116279\n",
      "0.09767441860465116\n",
      "0.08837209302325581\n",
      "0.07906976744186046\n",
      "0.023255813953488372\n",
      "0.05116279069767442\n",
      "0.05116279069767442\n",
      "0.05581395348837209\n",
      "0.05581395348837209\n",
      "0.027906976744186046\n",
      "0.04186046511627907\n",
      "0.03255813953488372\n",
      "0.046511627906976744\n",
      "0.04186046511627907\n",
      "0.023255813953488372\n",
      "0.03255813953488372\n",
      "0.046511627906976744\n",
      "0.046511627906976744\n",
      "0.037209302325581395\n",
      "0.04186046511627907\n",
      "0.046511627906976744\n",
      "0.04186046511627907\n",
      "0.013953488372093023\n",
      "0.018604651162790697\n",
      "0.08372093023255814\n",
      "0.12093023255813953\n",
      "0.09767441860465116\n",
      "0.09767441860465116\n",
      "0.08372093023255814\n",
      "0.09767441860465116\n",
      "0.07441860465116279\n",
      "0.09302325581395349\n",
      "0.09302325581395349\n",
      "0.07906976744186046\n",
      "0.05116279069767442\n",
      "0.06046511627906977\n",
      "0.12558139534883722\n",
      "0.19534883720930232\n",
      "0.2186046511627907\n",
      "0.19069767441860466\n"
     ]
    }
   ],
   "source": [
    "for i in esg_gf:\n",
    "    for j in esg_pr:\n",
    "        print(len(np.where(i == j)[0])/len(i))"
   ]
  },
  {
   "cell_type": "code",
   "execution_count": null,
   "id": "0ac20556",
   "metadata": {},
   "outputs": [],
   "source": [
    "esg_ccxgf_1"
   ]
  },
  {
   "cell_type": "code",
   "execution_count": 7,
   "id": "2b0047d0",
   "metadata": {},
   "outputs": [
    {
     "data": {
      "text/html": [
       "<div>\n",
       "<style scoped>\n",
       "    .dataframe tbody tr th:only-of-type {\n",
       "        vertical-align: middle;\n",
       "    }\n",
       "\n",
       "    .dataframe tbody tr th {\n",
       "        vertical-align: top;\n",
       "    }\n",
       "\n",
       "    .dataframe thead th {\n",
       "        text-align: right;\n",
       "    }\n",
       "</style>\n",
       "<table border=\"1\" class=\"dataframe\">\n",
       "  <thead>\n",
       "    <tr style=\"text-align: right;\">\n",
       "      <th></th>\n",
       "      <th>Company_name</th>\n",
       "      <th>Company_area</th>\n",
       "      <th>Company_code</th>\n",
       "      <th>Company_industry</th>\n",
       "      <th>CITI</th>\n",
       "      <th>CITI_all_rank</th>\n",
       "      <th>CITI_trade_rank</th>\n",
       "      <th>CATI</th>\n",
       "      <th>CATI_all_rank</th>\n",
       "      <th>CATI_trade_rank</th>\n",
       "      <th>CEmissReduce</th>\n",
       "      <th>CEmission</th>\n",
       "      <th>SC_CC</th>\n",
       "      <th>SC_PC</th>\n",
       "      <th>SC_CCHHI</th>\n",
       "      <th>SC_PCHHI</th>\n",
       "      <th>SC_SCC</th>\n",
       "    </tr>\n",
       "  </thead>\n",
       "  <tbody>\n",
       "    <tr>\n",
       "      <th>0</th>\n",
       "      <td>李宁有限公司</td>\n",
       "      <td>中国大陆</td>\n",
       "      <td>02331.HK</td>\n",
       "      <td>0.0</td>\n",
       "      <td>1.0</td>\n",
       "      <td>0.0</td>\n",
       "      <td>1.0</td>\n",
       "      <td>1.0</td>\n",
       "      <td>0.0</td>\n",
       "      <td>0.0</td>\n",
       "      <td>0.0</td>\n",
       "      <td>1.0</td>\n",
       "      <td>0.0</td>\n",
       "      <td>0.0</td>\n",
       "      <td>0.0</td>\n",
       "      <td>0.0</td>\n",
       "      <td>1.0</td>\n",
       "    </tr>\n",
       "    <tr>\n",
       "      <th>1</th>\n",
       "      <td>联想集团有限公司</td>\n",
       "      <td>中国大陆</td>\n",
       "      <td>00992.HK</td>\n",
       "      <td>0.0</td>\n",
       "      <td>1.0</td>\n",
       "      <td>1.0</td>\n",
       "      <td>1.0</td>\n",
       "      <td>1.0</td>\n",
       "      <td>0.0</td>\n",
       "      <td>0.0</td>\n",
       "      <td>0.0</td>\n",
       "      <td>1.0</td>\n",
       "      <td>0.0</td>\n",
       "      <td>0.0</td>\n",
       "      <td>0.0</td>\n",
       "      <td>0.0</td>\n",
       "      <td>0.0</td>\n",
       "    </tr>\n",
       "    <tr>\n",
       "      <th>2</th>\n",
       "      <td>雅戈尔集团股份有限公司</td>\n",
       "      <td>中国大陆</td>\n",
       "      <td>600177.SH</td>\n",
       "      <td>1.0</td>\n",
       "      <td>1.0</td>\n",
       "      <td>0.0</td>\n",
       "      <td>1.0</td>\n",
       "      <td>0.0</td>\n",
       "      <td>0.0</td>\n",
       "      <td>0.0</td>\n",
       "      <td>1.0</td>\n",
       "      <td>0.0</td>\n",
       "      <td>0.0</td>\n",
       "      <td>0.0</td>\n",
       "      <td>0.0</td>\n",
       "      <td>0.0</td>\n",
       "      <td>1.0</td>\n",
       "    </tr>\n",
       "    <tr>\n",
       "      <th>3</th>\n",
       "      <td>探路者控股集团股份有限公司</td>\n",
       "      <td>中国大陆</td>\n",
       "      <td>300005.SZ</td>\n",
       "      <td>0.0</td>\n",
       "      <td>0.0</td>\n",
       "      <td>1.0</td>\n",
       "      <td>1.0</td>\n",
       "      <td>1.0</td>\n",
       "      <td>0.0</td>\n",
       "      <td>0.0</td>\n",
       "      <td>1.0</td>\n",
       "      <td>0.0</td>\n",
       "      <td>1.0</td>\n",
       "      <td>1.0</td>\n",
       "      <td>1.0</td>\n",
       "      <td>1.0</td>\n",
       "      <td>0.0</td>\n",
       "    </tr>\n",
       "    <tr>\n",
       "      <th>4</th>\n",
       "      <td>青岛啤酒股份有限公司</td>\n",
       "      <td>中国大陆</td>\n",
       "      <td>600600.SH</td>\n",
       "      <td>0.0</td>\n",
       "      <td>0.0</td>\n",
       "      <td>1.0</td>\n",
       "      <td>1.0</td>\n",
       "      <td>1.0</td>\n",
       "      <td>0.0</td>\n",
       "      <td>0.0</td>\n",
       "      <td>1.0</td>\n",
       "      <td>0.0</td>\n",
       "      <td>0.0</td>\n",
       "      <td>0.0</td>\n",
       "      <td>0.0</td>\n",
       "      <td>0.0</td>\n",
       "      <td>1.0</td>\n",
       "    </tr>\n",
       "    <tr>\n",
       "      <th>...</th>\n",
       "      <td>...</td>\n",
       "      <td>...</td>\n",
       "      <td>...</td>\n",
       "      <td>...</td>\n",
       "      <td>...</td>\n",
       "      <td>...</td>\n",
       "      <td>...</td>\n",
       "      <td>...</td>\n",
       "      <td>...</td>\n",
       "      <td>...</td>\n",
       "      <td>...</td>\n",
       "      <td>...</td>\n",
       "      <td>...</td>\n",
       "      <td>...</td>\n",
       "      <td>...</td>\n",
       "      <td>...</td>\n",
       "      <td>...</td>\n",
       "    </tr>\n",
       "    <tr>\n",
       "      <th>209</th>\n",
       "      <td>周黑鸭国际控股有限公司</td>\n",
       "      <td>中国大陆</td>\n",
       "      <td>01458.HK</td>\n",
       "      <td>0.0</td>\n",
       "      <td>1.0</td>\n",
       "      <td>1.0</td>\n",
       "      <td>1.0</td>\n",
       "      <td>1.0</td>\n",
       "      <td>0.0</td>\n",
       "      <td>0.0</td>\n",
       "      <td>0.0</td>\n",
       "      <td>0.0</td>\n",
       "      <td>0.0</td>\n",
       "      <td>0.0</td>\n",
       "      <td>0.0</td>\n",
       "      <td>0.0</td>\n",
       "      <td>0.0</td>\n",
       "    </tr>\n",
       "    <tr>\n",
       "      <th>210</th>\n",
       "      <td>嘉士利集团有限公司</td>\n",
       "      <td>中国大陆</td>\n",
       "      <td>01285.HK</td>\n",
       "      <td>0.0</td>\n",
       "      <td>1.0</td>\n",
       "      <td>1.0</td>\n",
       "      <td>1.0</td>\n",
       "      <td>1.0</td>\n",
       "      <td>0.0</td>\n",
       "      <td>0.0</td>\n",
       "      <td>1.0</td>\n",
       "      <td>1.0</td>\n",
       "      <td>0.0</td>\n",
       "      <td>0.0</td>\n",
       "      <td>0.0</td>\n",
       "      <td>0.0</td>\n",
       "      <td>0.0</td>\n",
       "    </tr>\n",
       "    <tr>\n",
       "      <th>211</th>\n",
       "      <td>绿城中国控股有限公司</td>\n",
       "      <td>中国大陆</td>\n",
       "      <td>03900.HK</td>\n",
       "      <td>0.0</td>\n",
       "      <td>1.0</td>\n",
       "      <td>0.0</td>\n",
       "      <td>1.0</td>\n",
       "      <td>1.0</td>\n",
       "      <td>0.0</td>\n",
       "      <td>0.0</td>\n",
       "      <td>0.0</td>\n",
       "      <td>1.0</td>\n",
       "      <td>0.0</td>\n",
       "      <td>0.0</td>\n",
       "      <td>0.0</td>\n",
       "      <td>0.0</td>\n",
       "      <td>1.0</td>\n",
       "    </tr>\n",
       "    <tr>\n",
       "      <th>212</th>\n",
       "      <td>深圳传音控股股份有限公司</td>\n",
       "      <td>中国大陆</td>\n",
       "      <td>688036.SH</td>\n",
       "      <td>0.0</td>\n",
       "      <td>0.0</td>\n",
       "      <td>1.0</td>\n",
       "      <td>1.0</td>\n",
       "      <td>0.0</td>\n",
       "      <td>1.0</td>\n",
       "      <td>1.0</td>\n",
       "      <td>0.0</td>\n",
       "      <td>1.0</td>\n",
       "      <td>1.0</td>\n",
       "      <td>1.0</td>\n",
       "      <td>0.0</td>\n",
       "      <td>0.0</td>\n",
       "      <td>1.0</td>\n",
       "    </tr>\n",
       "    <tr>\n",
       "      <th>213</th>\n",
       "      <td>广东丸美生物技术股份有限公司</td>\n",
       "      <td>中国大陆</td>\n",
       "      <td>603983.SH</td>\n",
       "      <td>0.0</td>\n",
       "      <td>1.0</td>\n",
       "      <td>1.0</td>\n",
       "      <td>1.0</td>\n",
       "      <td>1.0</td>\n",
       "      <td>0.0</td>\n",
       "      <td>0.0</td>\n",
       "      <td>1.0</td>\n",
       "      <td>0.0</td>\n",
       "      <td>1.0</td>\n",
       "      <td>1.0</td>\n",
       "      <td>0.0</td>\n",
       "      <td>0.0</td>\n",
       "      <td>1.0</td>\n",
       "    </tr>\n",
       "  </tbody>\n",
       "</table>\n",
       "<p>214 rows × 17 columns</p>\n",
       "</div>"
      ],
      "text/plain": [
       "       Company_name Company_area Company_code  Company_industry  CITI  \\\n",
       "0            李宁有限公司         中国大陆     02331.HK               0.0   1.0   \n",
       "1          联想集团有限公司         中国大陆     00992.HK               0.0   1.0   \n",
       "2       雅戈尔集团股份有限公司         中国大陆    600177.SH               1.0   1.0   \n",
       "3     探路者控股集团股份有限公司         中国大陆    300005.SZ               0.0   0.0   \n",
       "4        青岛啤酒股份有限公司         中国大陆    600600.SH               0.0   0.0   \n",
       "..              ...          ...          ...               ...   ...   \n",
       "209     周黑鸭国际控股有限公司         中国大陆     01458.HK               0.0   1.0   \n",
       "210       嘉士利集团有限公司         中国大陆     01285.HK               0.0   1.0   \n",
       "211      绿城中国控股有限公司         中国大陆     03900.HK               0.0   1.0   \n",
       "212    深圳传音控股股份有限公司         中国大陆    688036.SH               0.0   0.0   \n",
       "213  广东丸美生物技术股份有限公司         中国大陆    603983.SH               0.0   1.0   \n",
       "\n",
       "     CITI_all_rank  CITI_trade_rank  CATI  CATI_all_rank  CATI_trade_rank  \\\n",
       "0              0.0              1.0   1.0            0.0              0.0   \n",
       "1              1.0              1.0   1.0            0.0              0.0   \n",
       "2              0.0              1.0   0.0            0.0              0.0   \n",
       "3              1.0              1.0   1.0            0.0              0.0   \n",
       "4              1.0              1.0   1.0            0.0              0.0   \n",
       "..             ...              ...   ...            ...              ...   \n",
       "209            1.0              1.0   1.0            0.0              0.0   \n",
       "210            1.0              1.0   1.0            0.0              0.0   \n",
       "211            0.0              1.0   1.0            0.0              0.0   \n",
       "212            1.0              1.0   0.0            1.0              1.0   \n",
       "213            1.0              1.0   1.0            0.0              0.0   \n",
       "\n",
       "     CEmissReduce  CEmission  SC_CC  SC_PC  SC_CCHHI  SC_PCHHI  SC_SCC  \n",
       "0             0.0        1.0    0.0    0.0       0.0       0.0     1.0  \n",
       "1             0.0        1.0    0.0    0.0       0.0       0.0     0.0  \n",
       "2             1.0        0.0    0.0    0.0       0.0       0.0     1.0  \n",
       "3             1.0        0.0    1.0    1.0       1.0       1.0     0.0  \n",
       "4             1.0        0.0    0.0    0.0       0.0       0.0     1.0  \n",
       "..            ...        ...    ...    ...       ...       ...     ...  \n",
       "209           0.0        0.0    0.0    0.0       0.0       0.0     0.0  \n",
       "210           1.0        1.0    0.0    0.0       0.0       0.0     0.0  \n",
       "211           0.0        1.0    0.0    0.0       0.0       0.0     1.0  \n",
       "212           0.0        1.0    1.0    1.0       0.0       0.0     1.0  \n",
       "213           1.0        0.0    1.0    1.0       0.0       0.0     1.0  \n",
       "\n",
       "[214 rows x 17 columns]"
      ]
     },
     "execution_count": 7,
     "metadata": {},
     "output_type": "execute_result"
    }
   ],
   "source": [
    "result = pd.read_excel(\"./result_rank-GPT4.xlsx\")\n",
    "result = result.drop(columns=['Unnamed: 1'])\n",
    "result.fillna(0.0, inplace=True)\n",
    "result"
   ]
  },
  {
   "cell_type": "code",
   "execution_count": 8,
   "id": "ccc3808b",
   "metadata": {},
   "outputs": [
    {
     "data": {
      "text/plain": [
       "(array([], dtype=int64),)"
      ]
     },
     "execution_count": 8,
     "metadata": {},
     "output_type": "execute_result"
    }
   ],
   "source": [
    "np.where(result[\"SC_CCHHI\"]==\" \")"
   ]
  },
  {
   "cell_type": "code",
   "execution_count": 9,
   "id": "41dce0c4",
   "metadata": {},
   "outputs": [],
   "source": [
    "vals = result.columns.values.tolist()[3:]"
   ]
  },
  {
   "cell_type": "code",
   "execution_count": 10,
   "id": "6d58e334",
   "metadata": {},
   "outputs": [
    {
     "data": {
      "text/plain": [
       "['Company_industry',\n",
       " 'CITI',\n",
       " 'CITI_all_rank',\n",
       " 'CITI_trade_rank',\n",
       " 'CATI',\n",
       " 'CATI_all_rank',\n",
       " 'CATI_trade_rank',\n",
       " 'CEmissReduce',\n",
       " 'CEmission',\n",
       " 'SC_CC',\n",
       " 'SC_PC',\n",
       " 'SC_CCHHI',\n",
       " 'SC_PCHHI',\n",
       " 'SC_SCC']"
      ]
     },
     "execution_count": 10,
     "metadata": {},
     "output_type": "execute_result"
    }
   ],
   "source": [
    "vals"
   ]
  },
  {
   "cell_type": "code",
   "execution_count": 11,
   "id": "fd419767",
   "metadata": {},
   "outputs": [
    {
     "name": "stdout",
     "output_type": "stream",
     "text": [
      "Company_industry 0.1822429906542056\n",
      "CITI 0.6588785046728972\n",
      "CITI_all_rank 0.46261682242990654\n",
      "CITI_trade_rank 0.602803738317757\n",
      "CATI 0.8130841121495327\n",
      "CATI_all_rank 0.1542056074766355\n",
      "CATI_trade_rank 0.1542056074766355\n",
      "CEmissReduce 0.6448598130841121\n",
      "CEmission 0.4953271028037383\n",
      "SC_CC 0.3644859813084112\n",
      "SC_PC 0.3878504672897196\n",
      "SC_CCHHI 0.056074766355140186\n",
      "SC_PCHHI 0.13551401869158877\n",
      "SC_SCC 0.6588785046728972\n"
     ]
    }
   ],
   "source": [
    "rate = []\n",
    "for val in vals:\n",
    "    print(val, result[val].sum()/len(result[val]))\n",
    "    rate.append(result[val].sum()/len(result[val]))"
   ]
  },
  {
   "cell_type": "code",
   "execution_count": 12,
   "id": "f96f9fb944bc7b11",
   "metadata": {
    "ExecuteTime": {
     "end_time": "2023-12-06T07:32:10.839902200Z",
     "start_time": "2023-12-06T07:32:09.907972800Z"
    },
    "collapsed": false
   },
   "outputs": [
    {
     "data": {
      "text/html": [
       "<div>\n",
       "<style scoped>\n",
       "    .dataframe tbody tr th:only-of-type {\n",
       "        vertical-align: middle;\n",
       "    }\n",
       "\n",
       "    .dataframe tbody tr th {\n",
       "        vertical-align: top;\n",
       "    }\n",
       "\n",
       "    .dataframe thead th {\n",
       "        text-align: right;\n",
       "    }\n",
       "</style>\n",
       "<table border=\"1\" class=\"dataframe\">\n",
       "  <thead>\n",
       "    <tr style=\"text-align: right;\">\n",
       "      <th></th>\n",
       "      <th>Company_name</th>\n",
       "      <th>Company_area</th>\n",
       "      <th>Company_code</th>\n",
       "      <th>Company_industry</th>\n",
       "      <th>CITI</th>\n",
       "      <th>CITI_all_rank</th>\n",
       "      <th>CITI_trade_rank</th>\n",
       "      <th>CATI</th>\n",
       "      <th>CATI_all_rank</th>\n",
       "      <th>CATI_trade_rank</th>\n",
       "      <th>...</th>\n",
       "      <th>rank_Assistant1</th>\n",
       "      <th>rank_Claude-instant0</th>\n",
       "      <th>rank_Claude-instant1</th>\n",
       "      <th>rank_Claude-instant2</th>\n",
       "      <th>rank_GPT-3.5-Turbo0</th>\n",
       "      <th>rank_GPT-3.5-Turbo1</th>\n",
       "      <th>rank_GPT-3.5-Turbo-Instruct0</th>\n",
       "      <th>rank_GPT-3.5-Turbo-Instruct1</th>\n",
       "      <th>rank_GPT-40</th>\n",
       "      <th>rank_Web-Search0</th>\n",
       "    </tr>\n",
       "  </thead>\n",
       "  <tbody>\n",
       "    <tr>\n",
       "      <th>0</th>\n",
       "      <td>李宁有限公司</td>\n",
       "      <td>中国大陆</td>\n",
       "      <td>02331.HK</td>\n",
       "      <td>纺织, 皮革</td>\n",
       "      <td>39.46</td>\n",
       "      <td>39</td>\n",
       "      <td>11</td>\n",
       "      <td>24.8</td>\n",
       "      <td>284</td>\n",
       "      <td>32</td>\n",
       "      <td>...</td>\n",
       "      <td>B</td>\n",
       "      <td>B-</td>\n",
       "      <td>B</td>\n",
       "      <td>B-</td>\n",
       "      <td>C</td>\n",
       "      <td>B</td>\n",
       "      <td>B</td>\n",
       "      <td>C+</td>\n",
       "      <td>C</td>\n",
       "      <td>-</td>\n",
       "    </tr>\n",
       "    <tr>\n",
       "      <th>1</th>\n",
       "      <td>联想集团有限公司</td>\n",
       "      <td>中国大陆</td>\n",
       "      <td>00992.HK</td>\n",
       "      <td>IT/ ICT</td>\n",
       "      <td>46.44</td>\n",
       "      <td>34</td>\n",
       "      <td>9</td>\n",
       "      <td>65.2</td>\n",
       "      <td>15</td>\n",
       "      <td>7</td>\n",
       "      <td>...</td>\n",
       "      <td>A</td>\n",
       "      <td>A-</td>\n",
       "      <td>A+</td>\n",
       "      <td>B</td>\n",
       "      <td>A</td>\n",
       "      <td>A</td>\n",
       "      <td>A</td>\n",
       "      <td>A-</td>\n",
       "      <td>B+</td>\n",
       "      <td>-</td>\n",
       "    </tr>\n",
       "    <tr>\n",
       "      <th>2</th>\n",
       "      <td>雅戈尔集团股份有限公司</td>\n",
       "      <td>中国大陆</td>\n",
       "      <td>600177.SH</td>\n",
       "      <td>纺织</td>\n",
       "      <td>6.40</td>\n",
       "      <td>531</td>\n",
       "      <td>108</td>\n",
       "      <td>7.0</td>\n",
       "      <td>929</td>\n",
       "      <td>117</td>\n",
       "      <td>...</td>\n",
       "      <td>C-</td>\n",
       "      <td>A</td>\n",
       "      <td>C+</td>\n",
       "      <td>B</td>\n",
       "      <td>C-</td>\n",
       "      <td>C-</td>\n",
       "      <td>C-</td>\n",
       "      <td>B-</td>\n",
       "      <td>C-</td>\n",
       "      <td>C</td>\n",
       "    </tr>\n",
       "    <tr>\n",
       "      <th>3</th>\n",
       "      <td>探路者控股集团股份有限公司</td>\n",
       "      <td>中国大陆</td>\n",
       "      <td>300005.SZ</td>\n",
       "      <td>纺织, 皮革</td>\n",
       "      <td>2.00</td>\n",
       "      <td>647</td>\n",
       "      <td>59</td>\n",
       "      <td>2.5</td>\n",
       "      <td>1269</td>\n",
       "      <td>59</td>\n",
       "      <td>...</td>\n",
       "      <td>C</td>\n",
       "      <td>A+</td>\n",
       "      <td>C</td>\n",
       "      <td>C-</td>\n",
       "      <td>C-</td>\n",
       "      <td>C</td>\n",
       "      <td>D</td>\n",
       "      <td>D-</td>\n",
       "      <td>C-</td>\n",
       "      <td>-</td>\n",
       "    </tr>\n",
       "    <tr>\n",
       "      <th>4</th>\n",
       "      <td>青岛啤酒股份有限公司</td>\n",
       "      <td>中国大陆</td>\n",
       "      <td>600600.SH</td>\n",
       "      <td>啤酒</td>\n",
       "      <td>10.70</td>\n",
       "      <td>358</td>\n",
       "      <td>6</td>\n",
       "      <td>16.0</td>\n",
       "      <td>508</td>\n",
       "      <td>6</td>\n",
       "      <td>...</td>\n",
       "      <td>B+</td>\n",
       "      <td>A</td>\n",
       "      <td>A</td>\n",
       "      <td>A-</td>\n",
       "      <td>B</td>\n",
       "      <td>B</td>\n",
       "      <td>B+</td>\n",
       "      <td>B</td>\n",
       "      <td>B</td>\n",
       "      <td>B</td>\n",
       "    </tr>\n",
       "  </tbody>\n",
       "</table>\n",
       "<p>5 rows × 147 columns</p>\n",
       "</div>"
      ],
      "text/plain": [
       "    Company_name Company_area Company_code Company_industry   CITI  \\\n",
       "0         李宁有限公司         中国大陆     02331.HK           纺织, 皮革  39.46   \n",
       "1       联想集团有限公司         中国大陆     00992.HK          IT/ ICT  46.44   \n",
       "2    雅戈尔集团股份有限公司         中国大陆    600177.SH               纺织   6.40   \n",
       "3  探路者控股集团股份有限公司         中国大陆    300005.SZ           纺织, 皮革   2.00   \n",
       "4     青岛啤酒股份有限公司         中国大陆    600600.SH               啤酒  10.70   \n",
       "\n",
       "   CITI_all_rank  CITI_trade_rank  CATI  CATI_all_rank  CATI_trade_rank  ...  \\\n",
       "0             39               11  24.8            284               32  ...   \n",
       "1             34                9  65.2             15                7  ...   \n",
       "2            531              108   7.0            929              117  ...   \n",
       "3            647               59   2.5           1269               59  ...   \n",
       "4            358                6  16.0            508                6  ...   \n",
       "\n",
       "   rank_Assistant1  rank_Claude-instant0  rank_Claude-instant1  \\\n",
       "0                B                    B-                     B   \n",
       "1                A                    A-                    A+   \n",
       "2               C-                     A                    C+   \n",
       "3                C                    A+                     C   \n",
       "4               B+                     A                     A   \n",
       "\n",
       "   rank_Claude-instant2  rank_GPT-3.5-Turbo0  rank_GPT-3.5-Turbo1  \\\n",
       "0                    B-                    C                    B   \n",
       "1                     B                    A                    A   \n",
       "2                     B                   C-                   C-   \n",
       "3                    C-                   C-                    C   \n",
       "4                    A-                    B                    B   \n",
       "\n",
       "   rank_GPT-3.5-Turbo-Instruct0  rank_GPT-3.5-Turbo-Instruct1  rank_GPT-40  \\\n",
       "0                             B                            C+            C   \n",
       "1                             A                            A-           B+   \n",
       "2                            C-                            B-           C-   \n",
       "3                             D                            D-           C-   \n",
       "4                            B+                             B            B   \n",
       "\n",
       "   rank_Web-Search0  \n",
       "0                 -  \n",
       "1                 -  \n",
       "2                 C  \n",
       "3                 -  \n",
       "4                 B  \n",
       "\n",
       "[5 rows x 147 columns]"
      ]
     },
     "execution_count": 12,
     "metadata": {},
     "output_type": "execute_result"
    }
   ],
   "source": [
    "data = pd.read_excel(\"./data/data_cn_lc.xlsx\")\n",
    "data = data.drop(columns=['Unnamed: 0'])\n",
    "data.head()"
   ]
  },
  {
   "cell_type": "code",
   "execution_count": null,
   "id": "d9c0486b",
   "metadata": {},
   "outputs": [],
   "source": []
  },
  {
   "cell_type": "code",
   "execution_count": 27,
   "id": "39cbd1bd",
   "metadata": {},
   "outputs": [],
   "source": [
    "industry = np.unique(data[\"Company_industry\"])\n",
    "industry_code = np.zeros(len(industry))\n",
    "industry_dict = dict(zip(industry, industry_code))"
   ]
  },
  {
   "cell_type": "code",
   "execution_count": 28,
   "id": "fa1c235c",
   "metadata": {},
   "outputs": [],
   "source": [
    "for i, v in enumerate(industry):\n",
    "    industry_dict[v] = len(np.where(data[\"Company_industry\"] == v)[0])"
   ]
  },
  {
   "cell_type": "code",
   "execution_count": 29,
   "id": "385df10f",
   "metadata": {},
   "outputs": [
    {
     "data": {
      "text/plain": [
       "{'IT/ ICT': 17,\n",
       " 'IT/ ICT, 光伏设备': 2,\n",
       " 'IT/ ICT, 家电': 3,\n",
       " '乳制品': 9,\n",
       " '互联网平台': 3,\n",
       " '光伏设备': 13,\n",
       " '化工, 家装': 1,\n",
       " '医药': 12,\n",
       " '啤酒': 4,\n",
       " '家电': 8,\n",
       " '家电, 光伏设备': 1,\n",
       " '家电, 家装': 2,\n",
       " '家装': 11,\n",
       " '房地产建筑': 34,\n",
       " '日化': 8,\n",
       " '汽车': 13,\n",
       " '汽车, 电池及电池材料': 1,\n",
       " '汽车零部件': 6,\n",
       " '玩具': 2,\n",
       " '白酒': 9,\n",
       " '皮革': 3,\n",
       " '纸业': 13,\n",
       " '纺织': 11,\n",
       " '纺织, 皮革': 6,\n",
       " '纺织, 钢铁': 1,\n",
       " '自行车/助力车': 4,\n",
       " '零售, 互联网平台': 1,\n",
       " '食品饮料': 15,\n",
       " '食品饮料, 乳制品': 1,\n",
       " '餐饮': 1}"
      ]
     },
     "execution_count": 29,
     "metadata": {},
     "output_type": "execute_result"
    }
   ],
   "source": [
    "industry_dict"
   ]
  },
  {
   "cell_type": "code",
   "execution_count": 18,
   "id": "6e4cb8b0",
   "metadata": {},
   "outputs": [
    {
     "data": {
      "text/plain": [
       "(array([19.,  3., 12., 13., 13.,  4.,  9.,  2., 45.,  8., 13.,  7.,  2.,\n",
       "        12., 13., 17.,  1.,  5., 15.,  2.]),\n",
       " array([ 1.  ,  2.45,  3.9 ,  5.35,  6.8 ,  8.25,  9.7 , 11.15, 12.6 ,\n",
       "        14.05, 15.5 , 16.95, 18.4 , 19.85, 21.3 , 22.75, 24.2 , 25.65,\n",
       "        27.1 , 28.55, 30.  ]),\n",
       " <BarContainer object of 20 artists>)"
      ]
     },
     "execution_count": 18,
     "metadata": {},
     "output_type": "execute_result"
    }
   ],
   "source": [
    "hist"
   ]
  },
  {
   "cell_type": "code",
   "execution_count": 17,
   "id": "7fbee57f",
   "metadata": {},
   "outputs": [
    {
     "data": {
      "image/png": "[encoded data removed]",
      "text/plain": [
       "<Figure size 640x480 with 1 Axes>"
      ]
     },
     "metadata": {},
     "output_type": "display_data"
    }
   ],
   "source": [
    "hist=plt.hist(data[\"Company_industry\"].apply(lambda x: industry_dict[x]), bins=20)"
   ]
  },
  {
   "cell_type": "code",
   "execution_count": 13,
   "id": "c3662339",
   "metadata": {},
   "outputs": [],
   "source": [
    "bands = data.columns.to_list()\n",
    "bands = [band for band in bands if \"Band\" in band]"
   ]
  },
  {
   "cell_type": "code",
   "execution_count": 14,
   "id": "59864635",
   "metadata": {},
   "outputs": [],
   "source": [
    "data_bands = data[bands].copy()\n",
    "data_bands[data_bands == \"grey\"] = 0\n",
    "data_bands[data_bands == \"green\"] = 1"
   ]
  },
  {
   "cell_type": "code",
   "execution_count": 27,
   "id": "487b5a13",
   "metadata": {},
   "outputs": [],
   "source": [
    "result_band = pd.read_excel(\"./result_advise.xlsx\")"
   ]
  },
  {
   "cell_type": "code",
   "execution_count": 28,
   "id": "18f3b14e",
   "metadata": {},
   "outputs": [],
   "source": [
    "result_band.fillna(0.0, inplace=True)"
   ]
  },
  {
   "cell_type": "code",
   "execution_count": 29,
   "id": "783e32b9",
   "metadata": {},
   "outputs": [],
   "source": [
    "bands_r = result_band.columns.to_list()[1:]"
   ]
  },
  {
   "cell_type": "code",
   "execution_count": 30,
   "id": "56c099ad",
   "metadata": {},
   "outputs": [
    {
     "data": {
      "text/html": [
       "<div>\n",
       "<style scoped>\n",
       "    .dataframe tbody tr th:only-of-type {\n",
       "        vertical-align: middle;\n",
       "    }\n",
       "\n",
       "    .dataframe tbody tr th {\n",
       "        vertical-align: top;\n",
       "    }\n",
       "\n",
       "    .dataframe thead th {\n",
       "        text-align: right;\n",
       "    }\n",
       "</style>\n",
       "<table border=\"1\" class=\"dataframe\">\n",
       "  <thead>\n",
       "    <tr style=\"text-align: right;\">\n",
       "      <th></th>\n",
       "      <th>Band_1</th>\n",
       "      <th>Band_2</th>\n",
       "      <th>Band_3</th>\n",
       "      <th>Band_4</th>\n",
       "      <th>Band_5</th>\n",
       "      <th>Band_6</th>\n",
       "      <th>Band_7</th>\n",
       "      <th>Band_8</th>\n",
       "      <th>Band_9</th>\n",
       "      <th>Band_10</th>\n",
       "      <th>...</th>\n",
       "      <th>Band_18</th>\n",
       "      <th>Band_19</th>\n",
       "      <th>Band_20</th>\n",
       "      <th>Band_21</th>\n",
       "      <th>Band_22</th>\n",
       "      <th>Band_23</th>\n",
       "      <th>Band_24</th>\n",
       "      <th>Band_25</th>\n",
       "      <th>Band_26</th>\n",
       "      <th>Band_27</th>\n",
       "    </tr>\n",
       "  </thead>\n",
       "  <tbody>\n",
       "    <tr>\n",
       "      <th>0</th>\n",
       "      <td>1</td>\n",
       "      <td>0</td>\n",
       "      <td>1</td>\n",
       "      <td>1</td>\n",
       "      <td>0</td>\n",
       "      <td>0</td>\n",
       "      <td>0</td>\n",
       "      <td>0</td>\n",
       "      <td>0</td>\n",
       "      <td>0</td>\n",
       "      <td>...</td>\n",
       "      <td>1</td>\n",
       "      <td>0</td>\n",
       "      <td>1</td>\n",
       "      <td>0</td>\n",
       "      <td>0</td>\n",
       "      <td>1</td>\n",
       "      <td>1</td>\n",
       "      <td>1</td>\n",
       "      <td>0</td>\n",
       "      <td>0</td>\n",
       "    </tr>\n",
       "    <tr>\n",
       "      <th>1</th>\n",
       "      <td>1</td>\n",
       "      <td>0</td>\n",
       "      <td>1</td>\n",
       "      <td>1</td>\n",
       "      <td>1</td>\n",
       "      <td>1</td>\n",
       "      <td>1</td>\n",
       "      <td>1</td>\n",
       "      <td>1</td>\n",
       "      <td>1</td>\n",
       "      <td>...</td>\n",
       "      <td>1</td>\n",
       "      <td>1</td>\n",
       "      <td>1</td>\n",
       "      <td>1</td>\n",
       "      <td>1</td>\n",
       "      <td>1</td>\n",
       "      <td>1</td>\n",
       "      <td>1</td>\n",
       "      <td>1</td>\n",
       "      <td>1</td>\n",
       "    </tr>\n",
       "    <tr>\n",
       "      <th>2</th>\n",
       "      <td>0</td>\n",
       "      <td>0</td>\n",
       "      <td>0</td>\n",
       "      <td>0</td>\n",
       "      <td>0</td>\n",
       "      <td>0</td>\n",
       "      <td>0</td>\n",
       "      <td>0</td>\n",
       "      <td>0</td>\n",
       "      <td>0</td>\n",
       "      <td>...</td>\n",
       "      <td>1</td>\n",
       "      <td>0</td>\n",
       "      <td>0</td>\n",
       "      <td>0</td>\n",
       "      <td>0</td>\n",
       "      <td>0</td>\n",
       "      <td>1</td>\n",
       "      <td>1</td>\n",
       "      <td>0</td>\n",
       "      <td>1</td>\n",
       "    </tr>\n",
       "    <tr>\n",
       "      <th>3</th>\n",
       "      <td>0</td>\n",
       "      <td>0</td>\n",
       "      <td>0</td>\n",
       "      <td>0</td>\n",
       "      <td>0</td>\n",
       "      <td>0</td>\n",
       "      <td>0</td>\n",
       "      <td>0</td>\n",
       "      <td>0</td>\n",
       "      <td>0</td>\n",
       "      <td>...</td>\n",
       "      <td>0</td>\n",
       "      <td>0</td>\n",
       "      <td>0</td>\n",
       "      <td>0</td>\n",
       "      <td>0</td>\n",
       "      <td>0</td>\n",
       "      <td>0</td>\n",
       "      <td>0</td>\n",
       "      <td>0</td>\n",
       "      <td>0</td>\n",
       "    </tr>\n",
       "    <tr>\n",
       "      <th>4</th>\n",
       "      <td>0</td>\n",
       "      <td>0</td>\n",
       "      <td>1</td>\n",
       "      <td>0</td>\n",
       "      <td>0</td>\n",
       "      <td>0</td>\n",
       "      <td>0</td>\n",
       "      <td>0</td>\n",
       "      <td>0</td>\n",
       "      <td>0</td>\n",
       "      <td>...</td>\n",
       "      <td>1</td>\n",
       "      <td>1</td>\n",
       "      <td>0</td>\n",
       "      <td>0</td>\n",
       "      <td>0</td>\n",
       "      <td>1</td>\n",
       "      <td>1</td>\n",
       "      <td>1</td>\n",
       "      <td>1</td>\n",
       "      <td>1</td>\n",
       "    </tr>\n",
       "    <tr>\n",
       "      <th>...</th>\n",
       "      <td>...</td>\n",
       "      <td>...</td>\n",
       "      <td>...</td>\n",
       "      <td>...</td>\n",
       "      <td>...</td>\n",
       "      <td>...</td>\n",
       "      <td>...</td>\n",
       "      <td>...</td>\n",
       "      <td>...</td>\n",
       "      <td>...</td>\n",
       "      <td>...</td>\n",
       "      <td>...</td>\n",
       "      <td>...</td>\n",
       "      <td>...</td>\n",
       "      <td>...</td>\n",
       "      <td>...</td>\n",
       "      <td>...</td>\n",
       "      <td>...</td>\n",
       "      <td>...</td>\n",
       "      <td>...</td>\n",
       "      <td>...</td>\n",
       "    </tr>\n",
       "    <tr>\n",
       "      <th>210</th>\n",
       "      <td>0</td>\n",
       "      <td>0</td>\n",
       "      <td>0</td>\n",
       "      <td>0</td>\n",
       "      <td>1</td>\n",
       "      <td>0</td>\n",
       "      <td>0</td>\n",
       "      <td>0</td>\n",
       "      <td>0</td>\n",
       "      <td>0</td>\n",
       "      <td>...</td>\n",
       "      <td>1</td>\n",
       "      <td>1</td>\n",
       "      <td>0</td>\n",
       "      <td>0</td>\n",
       "      <td>0</td>\n",
       "      <td>1</td>\n",
       "      <td>1</td>\n",
       "      <td>1</td>\n",
       "      <td>1</td>\n",
       "      <td>0</td>\n",
       "    </tr>\n",
       "    <tr>\n",
       "      <th>211</th>\n",
       "      <td>0</td>\n",
       "      <td>0</td>\n",
       "      <td>0</td>\n",
       "      <td>0</td>\n",
       "      <td>0</td>\n",
       "      <td>0</td>\n",
       "      <td>0</td>\n",
       "      <td>0</td>\n",
       "      <td>0</td>\n",
       "      <td>0</td>\n",
       "      <td>...</td>\n",
       "      <td>1</td>\n",
       "      <td>1</td>\n",
       "      <td>0</td>\n",
       "      <td>0</td>\n",
       "      <td>0</td>\n",
       "      <td>0</td>\n",
       "      <td>1</td>\n",
       "      <td>1</td>\n",
       "      <td>0</td>\n",
       "      <td>0</td>\n",
       "    </tr>\n",
       "    <tr>\n",
       "      <th>212</th>\n",
       "      <td>0</td>\n",
       "      <td>0</td>\n",
       "      <td>0</td>\n",
       "      <td>0</td>\n",
       "      <td>0</td>\n",
       "      <td>0</td>\n",
       "      <td>0</td>\n",
       "      <td>0</td>\n",
       "      <td>0</td>\n",
       "      <td>0</td>\n",
       "      <td>...</td>\n",
       "      <td>1</td>\n",
       "      <td>1</td>\n",
       "      <td>0</td>\n",
       "      <td>1</td>\n",
       "      <td>0</td>\n",
       "      <td>1</td>\n",
       "      <td>1</td>\n",
       "      <td>1</td>\n",
       "      <td>1</td>\n",
       "      <td>0</td>\n",
       "    </tr>\n",
       "    <tr>\n",
       "      <th>213</th>\n",
       "      <td>0</td>\n",
       "      <td>0</td>\n",
       "      <td>0</td>\n",
       "      <td>0</td>\n",
       "      <td>0</td>\n",
       "      <td>0</td>\n",
       "      <td>0</td>\n",
       "      <td>0</td>\n",
       "      <td>0</td>\n",
       "      <td>0</td>\n",
       "      <td>...</td>\n",
       "      <td>0</td>\n",
       "      <td>0</td>\n",
       "      <td>0</td>\n",
       "      <td>0</td>\n",
       "      <td>0</td>\n",
       "      <td>0</td>\n",
       "      <td>0</td>\n",
       "      <td>1</td>\n",
       "      <td>0</td>\n",
       "      <td>0</td>\n",
       "    </tr>\n",
       "    <tr>\n",
       "      <th>214</th>\n",
       "      <td>0</td>\n",
       "      <td>0</td>\n",
       "      <td>0</td>\n",
       "      <td>0</td>\n",
       "      <td>0</td>\n",
       "      <td>0</td>\n",
       "      <td>0</td>\n",
       "      <td>0</td>\n",
       "      <td>0</td>\n",
       "      <td>0</td>\n",
       "      <td>...</td>\n",
       "      <td>1</td>\n",
       "      <td>0</td>\n",
       "      <td>0</td>\n",
       "      <td>0</td>\n",
       "      <td>0</td>\n",
       "      <td>1</td>\n",
       "      <td>1</td>\n",
       "      <td>1</td>\n",
       "      <td>0</td>\n",
       "      <td>0</td>\n",
       "    </tr>\n",
       "  </tbody>\n",
       "</table>\n",
       "<p>215 rows × 27 columns</p>\n",
       "</div>"
      ],
      "text/plain": [
       "    Band_1 Band_2 Band_3 Band_4 Band_5 Band_6 Band_7 Band_8 Band_9 Band_10  \\\n",
       "0        1      0      1      1      0      0      0      0      0       0   \n",
       "1        1      0      1      1      1      1      1      1      1       1   \n",
       "2        0      0      0      0      0      0      0      0      0       0   \n",
       "3        0      0      0      0      0      0      0      0      0       0   \n",
       "4        0      0      1      0      0      0      0      0      0       0   \n",
       "..     ...    ...    ...    ...    ...    ...    ...    ...    ...     ...   \n",
       "210      0      0      0      0      1      0      0      0      0       0   \n",
       "211      0      0      0      0      0      0      0      0      0       0   \n",
       "212      0      0      0      0      0      0      0      0      0       0   \n",
       "213      0      0      0      0      0      0      0      0      0       0   \n",
       "214      0      0      0      0      0      0      0      0      0       0   \n",
       "\n",
       "     ... Band_18 Band_19 Band_20 Band_21 Band_22 Band_23 Band_24 Band_25  \\\n",
       "0    ...       1       0       1       0       0       1       1       1   \n",
       "1    ...       1       1       1       1       1       1       1       1   \n",
       "2    ...       1       0       0       0       0       0       1       1   \n",
       "3    ...       0       0       0       0       0       0       0       0   \n",
       "4    ...       1       1       0       0       0       1       1       1   \n",
       "..   ...     ...     ...     ...     ...     ...     ...     ...     ...   \n",
       "210  ...       1       1       0       0       0       1       1       1   \n",
       "211  ...       1       1       0       0       0       0       1       1   \n",
       "212  ...       1       1       0       1       0       1       1       1   \n",
       "213  ...       0       0       0       0       0       0       0       1   \n",
       "214  ...       1       0       0       0       0       1       1       1   \n",
       "\n",
       "    Band_26 Band_27  \n",
       "0         0       0  \n",
       "1         1       1  \n",
       "2         0       1  \n",
       "3         0       0  \n",
       "4         1       1  \n",
       "..      ...     ...  \n",
       "210       1       0  \n",
       "211       0       0  \n",
       "212       1       0  \n",
       "213       0       0  \n",
       "214       0       0  \n",
       "\n",
       "[215 rows x 27 columns]"
      ]
     },
     "execution_count": 30,
     "metadata": {},
     "output_type": "execute_result"
    }
   ],
   "source": [
    "data_bands"
   ]
  },
  {
   "cell_type": "code",
   "execution_count": 31,
   "id": "2fa13c66",
   "metadata": {},
   "outputs": [
    {
     "data": {
      "text/plain": [
       "['供应链（范围3）政策宣示',\n",
       " '供应链（范围3）测算披露',\n",
       " '供应链（范围3）目标设定',\n",
       " '供应链（范围3）目标绩效',\n",
       " '供应链（范围3）供应商企业自主开展碳管理',\n",
       " '范围1+2 政策宣示',\n",
       " '范围1+2 测算披露',\n",
       " '范围1+2 目标设定',\n",
       " '范围1+2 目标绩效',\n",
       " '范围1+2 自身减排行动']"
      ]
     },
     "execution_count": 31,
     "metadata": {},
     "output_type": "execute_result"
    }
   ],
   "source": [
    "bands_r"
   ]
  },
  {
   "cell_type": "code",
   "execution_count": 32,
   "id": "9c257e40",
   "metadata": {},
   "outputs": [],
   "source": [
    "all_correct = 0\n",
    "ab_correct = 0\n",
    "wrong_index = []\n",
    "wrong_record = np.zeros((len(data), len(bands_r)))\n",
    "for i in range(0, len(data)):\n",
    "    data_1 = data_bands.iloc[i]\n",
    "    correct = np.zeros(len(bands_r))\n",
    "    band_index = 0\n",
    "    data_index = 0\n",
    "    while data_index < len(bands):\n",
    "        if bands_r[band_index] not in meaning_dict[bands[data_index]]:\n",
    "            band_index += 1\n",
    "        correct[band_index] += data_1[bands[data_index]]\n",
    "        data_index += 1\n",
    "    correct = [ 1 if float(i) > 0 else 0 for i in correct]\n",
    "    correct = np.array(correct)\n",
    "    pr_correct = [ 1 if i > 0 else 0 for i in result_band.iloc[i][bands_r]]\n",
    "    pr_correct = np.array(pr_correct)\n",
    "    wrong = np.where(correct != pr_correct)[0]\n",
    "    wrong_record[i][wrong] = 1\n",
    "    if wrong.shape[0] == 0:\n",
    "        ab_correct += 1\n",
    "    else:\n",
    "        wrong_index.append(i)\n",
    "    all_correct += np.where(correct == pr_correct)[0].shape[0]\n"
   ]
  },
  {
   "cell_type": "code",
   "execution_count": 33,
   "id": "bfec702a",
   "metadata": {},
   "outputs": [
    {
     "data": {
      "text/plain": [
       "array([0.97674419, 0.9627907 , 0.94883721, 0.96744186, 0.97674419,\n",
       "       0.95348837, 0.89302326, 0.86511628, 0.95348837, 0.90697674])"
      ]
     },
     "execution_count": 33,
     "metadata": {},
     "output_type": "execute_result"
    }
   ],
   "source": [
    "1 - wrong_record.sum(axis=0)/len(data) #GPT3"
   ]
  },
  {
   "cell_type": "code",
   "execution_count": 26,
   "id": "755a9343",
   "metadata": {},
   "outputs": [
    {
     "data": {
      "text/plain": [
       "array([0.98139535, 0.96744186, 0.95348837, 0.98139535, 0.98604651,\n",
       "       0.97209302, 0.92093023, 0.89302326, 0.95348837, 0.95348837])"
      ]
     },
     "execution_count": 26,
     "metadata": {},
     "output_type": "execute_result"
    }
   ],
   "source": [
    "1 - wrong_record.sum(axis=0)/len(data) #GPT4"
   ]
  },
  {
   "cell_type": "code",
   "execution_count": 11,
   "id": "17a98897",
   "metadata": {},
   "outputs": [
    {
     "data": {
      "text/plain": [
       "0.9562790697674419"
      ]
     },
     "execution_count": 11,
     "metadata": {},
     "output_type": "execute_result"
    }
   ],
   "source": [
    "all_correct/len(data_bands)/len(bands_r) #GPT4"
   ]
  },
  {
   "cell_type": "code",
   "execution_count": 94,
   "id": "9167cbdc",
   "metadata": {},
   "outputs": [
    {
     "data": {
      "text/plain": [
       "0.9404651162790698"
      ]
     },
     "execution_count": 94,
     "metadata": {},
     "output_type": "execute_result"
    }
   ],
   "source": [
    "all_correct/len(data_bands)/len(bands_r) #GPT3"
   ]
  },
  {
   "cell_type": "code",
   "execution_count": 93,
   "id": "451c5701",
   "metadata": {},
   "outputs": [
    {
     "data": {
      "text/plain": [
       "0.6930232558139535"
      ]
     },
     "execution_count": 93,
     "metadata": {},
     "output_type": "execute_result"
    }
   ],
   "source": [
    "ab_correct/len(data_bands)"
   ]
  },
  {
   "cell_type": "code",
   "execution_count": 74,
   "id": "496ead07",
   "metadata": {},
   "outputs": [
    {
     "data": {
      "text/plain": [
       "0.9009302325581394"
      ]
     },
     "execution_count": 74,
     "metadata": {},
     "output_type": "execute_result"
    }
   ],
   "source": [
    "all_correct/len(data)/len(bands_r)"
   ]
  },
  {
   "cell_type": "code",
   "execution_count": 96,
   "id": "c9fd82a1",
   "metadata": {},
   "outputs": [],
   "source": [
    "np.save(\"wrong_index.npy\",wrong_index)"
   ]
  },
  {
   "cell_type": "code",
   "execution_count": 97,
   "id": "b5de5361",
   "metadata": {},
   "outputs": [
    {
     "data": {
      "text/plain": [
       "[0,\n",
       " 2,\n",
       " 5,\n",
       " 7,\n",
       " 10,\n",
       " 15,\n",
       " 16,\n",
       " 17,\n",
       " 19,\n",
       " 23,\n",
       " 24,\n",
       " 34,\n",
       " 36,\n",
       " 40,\n",
       " 43,\n",
       " 46,\n",
       " 50,\n",
       " 58,\n",
       " 62,\n",
       " 63,\n",
       " 65,\n",
       " 66,\n",
       " 67,\n",
       " 70,\n",
       " 71,\n",
       " 72,\n",
       " 74,\n",
       " 75,\n",
       " 76,\n",
       " 77,\n",
       " 79,\n",
       " 81,\n",
       " 88,\n",
       " 90,\n",
       " 95,\n",
       " 96,\n",
       " 112,\n",
       " 114,\n",
       " 125,\n",
       " 128,\n",
       " 130,\n",
       " 132,\n",
       " 133,\n",
       " 136,\n",
       " 138,\n",
       " 140,\n",
       " 142,\n",
       " 143,\n",
       " 148,\n",
       " 151,\n",
       " 156,\n",
       " 157,\n",
       " 158,\n",
       " 161,\n",
       " 166,\n",
       " 167,\n",
       " 171,\n",
       " 181,\n",
       " 182,\n",
       " 184,\n",
       " 191,\n",
       " 197,\n",
       " 198,\n",
       " 202,\n",
       " 203,\n",
       " 204]"
      ]
     },
     "execution_count": 97,
     "metadata": {},
     "output_type": "execute_result"
    }
   ],
   "source": [
    "wrong_index"
   ]
  },
  {
   "cell_type": "code",
   "execution_count": 65,
   "id": "49ba159f",
   "metadata": {},
   "outputs": [],
   "source": [
    "data_1 = data.iloc[0]\n",
    "correct = np.zeros(len(bands_r))\n",
    "band_index = 0\n",
    "data_index = 0\n",
    "while data_index < len(bands):\n",
    "    if bands_r[band_index] not in meaning_dict[bands[data_index]]:\n",
    "        band_index += 1\n",
    "    correct[band_index] += data_1[bands[data_index]]\n",
    "    data_index += 1\n",
    "\n",
    "    "
   ]
  },
  {
   "cell_type": "code",
   "execution_count": 66,
   "id": "e89d300a",
   "metadata": {},
   "outputs": [],
   "source": [
    "correct = [ 1 if i > 0 else 0 for i in correct]"
   ]
  },
  {
   "cell_type": "code",
   "execution_count": 67,
   "id": "9356c63b",
   "metadata": {},
   "outputs": [],
   "source": [
    "correct = np.array(correct)"
   ]
  },
  {
   "cell_type": "code",
   "execution_count": 71,
   "id": "10d30966",
   "metadata": {},
   "outputs": [
    {
     "data": {
      "text/plain": [
       "array([0, 1, 2, 3, 4, 5, 6, 8, 9], dtype=int64)"
      ]
     },
     "execution_count": 71,
     "metadata": {},
     "output_type": "execute_result"
    }
   ],
   "source": [
    "np.where(correct == result_band.iloc[0][bands_r])[0]"
   ]
  },
  {
   "cell_type": "code",
   "execution_count": 4,
   "metadata": {},
   "outputs": [
    {
     "data": {
      "text/plain": [
       "{'纺织, 皮革': 0,\n",
       " 'IT/ ICT': 1,\n",
       " '纺织': 2,\n",
       " '啤酒': 3,\n",
       " '汽车': 4,\n",
       " '汽车, 电池及电池材料': 5,\n",
       " 'IT/ ICT, 光伏设备': 6,\n",
       " '乳制品': 7,\n",
       " '食品饮料': 8,\n",
       " '家电': 9,\n",
       " '日化': 10,\n",
       " '皮革': 11,\n",
       " '纸业': 12,\n",
       " 'IT/ ICT, 家电': 13,\n",
       " '房地产建筑': 14,\n",
       " '食品饮料, 乳制品': 15,\n",
       " '纺织, 钢铁': 16,\n",
       " '汽车零部件': 17,\n",
       " '白酒': 18,\n",
       " '医药': 19,\n",
       " '家装': 20,\n",
       " '化工, 家装': 21,\n",
       " '家电, 家装': 22,\n",
       " '自行车/助力车': 23,\n",
       " '光伏设备': 24,\n",
       " '玩具': 25,\n",
       " '互联网平台': 26,\n",
       " '零售, 互联网平台': 27,\n",
       " '家电, 光伏设备': 28,\n",
       " '餐饮': 29}"
      ]
     },
     "execution_count": 4,
     "metadata": {},
     "output_type": "execute_result"
    }
   ],
   "source": [
    "ci_score = zip(data[\"Company_industry\"].unique(), range(len(data[\"Company_industry\"].unique())))\n",
    "ci_score = dict(ci_score)\n",
    "ci_score"
   ]
  },
  {
   "cell_type": "code",
   "execution_count": 5,
   "metadata": {},
   "outputs": [],
   "source": [
    "\n",
    "index = np.random.choice(range(len(data)), size=len(data), replace=False)"
   ]
  },
  {
   "cell_type": "code",
   "execution_count": 6,
   "id": "c66e36b3",
   "metadata": {},
   "outputs": [
    {
     "data": {
      "text/plain": [
       "array([ 24, 140,  53,  73,  18, 109,  70, 160,  66,  99, 120, 205, 161,\n",
       "       184, 158, 169,   2,  72,  33, 150,  35,  29, 189,  19,  30, 113,\n",
       "       122,   4, 136,  50, 126,  44, 172,  80, 142, 104,  85,   5, 204,\n",
       "       114,  48, 200, 153,  62, 173,  22,  38, 166,  54, 152, 206, 139,\n",
       "       103,  78, 171, 124, 111,  25, 181,  39, 179, 155,  41, 191,  90,\n",
       "        74, 119, 121,  10,  95,  87, 135, 141, 178, 187, 177,  76, 198,\n",
       "         8,  63,  86, 131, 188, 208,  52,  64,  71,  97, 149,  68,  59,\n",
       "        84,  81, 194, 106, 148,  15, 209,  77,  42,  12, 128,  37, 133,\n",
       "        79, 168, 156,  89, 210,   6, 202, 125,  45,  23,  34, 167,  55,\n",
       "       117, 144, 134, 110, 159,  46, 157, 164, 203, 123,  28, 183,  31,\n",
       "       170,  14,  61, 162, 213, 129, 107,  20,  47, 132,  49,  21, 186,\n",
       "        94, 199,  17, 207,  16,  36,  92, 193, 100,   3, 175, 165, 214,\n",
       "       196, 195,  26,  27,   7, 197,  98,  91,  82, 127, 145,  43,  69,\n",
       "       211,   9, 185, 130,  93, 102, 116,  96,  67,  40, 143, 147, 192,\n",
       "       108,  11, 174, 138, 201,  65, 115, 176, 180,  60,  51,  83,   0,\n",
       "       105, 154, 112,   1,  75, 190,  56, 101, 146,  58, 137,  13,  88,\n",
       "        32, 212, 163, 118, 151, 182,  57])"
      ]
     },
     "execution_count": 6,
     "metadata": {},
     "output_type": "execute_result"
    }
   ],
   "source": [
    "index"
   ]
  },
  {
   "cell_type": "code",
   "execution_count": 7,
   "id": "5d8a5ac1fb1bda4c",
   "metadata": {
    "ExecuteTime": {
     "end_time": "2023-12-06T07:32:10.863423200Z",
     "start_time": "2023-12-06T07:32:10.839902200Z"
    },
    "collapsed": false
   },
   "outputs": [],
   "source": [
    "gt_environment = data[\"Environment\"]"
   ]
  },
  {
   "cell_type": "code",
   "execution_count": 8,
   "id": "b1590c2632f381fc",
   "metadata": {
    "ExecuteTime": {
     "end_time": "2023-12-06T07:33:03.526558500Z",
     "start_time": "2023-12-06T07:33:03.498648600Z"
    },
    "collapsed": false
   },
   "outputs": [],
   "source": [
    "gt_environment = gt_environment.to_numpy()"
   ]
  },
  {
   "cell_type": "code",
   "execution_count": 9,
   "id": "c26c381c6de5a400",
   "metadata": {
    "ExecuteTime": {
     "end_time": "2023-12-06T07:33:16.340755300Z",
     "start_time": "2023-12-06T07:33:16.248724400Z"
    },
    "collapsed": false
   },
   "outputs": [
    {
     "data": {
      "text/plain": [
       "array(['A', 'A+', 'A-', 'AA-', 'B', 'BB', 'BBB', 'BBB+', 'BBB-', 'C'],\n",
       "      dtype=object)"
      ]
     },
     "execution_count": 9,
     "metadata": {},
     "output_type": "execute_result"
    }
   ],
   "source": [
    "np.unique(gt_environment)"
   ]
  },
  {
   "cell_type": "code",
   "execution_count": 10,
   "id": "806ee44ec39d6d12",
   "metadata": {
    "ExecuteTime": {
     "end_time": "2023-12-06T08:40:04.113897300Z",
     "start_time": "2023-12-06T08:40:04.085780600Z"
    },
    "collapsed": false
   },
   "outputs": [],
   "source": [
    "gt_score = {\"C\":0, \"B\":1,\"BB\":2,\"BBB-\":3,\"BBB\":4,\"BBB+\":5,\"A-\":6,\"A\":7,\"AA-\":8,\"A+\":9}"
   ]
  },
  {
   "cell_type": "code",
   "execution_count": 11,
   "id": "4e2cf2bfd3e5a23f",
   "metadata": {
    "ExecuteTime": {
     "end_time": "2023-12-06T08:28:01.197667300Z",
     "start_time": "2023-12-06T08:28:01.145117400Z"
    },
    "collapsed": false
   },
   "outputs": [],
   "source": [
    "pr_environment = data[\"rank_GPT-40\"]"
   ]
  },
  {
   "cell_type": "code",
   "execution_count": 12,
   "id": "70ca4ce4d33292ec",
   "metadata": {
    "ExecuteTime": {
     "end_time": "2023-12-06T08:28:16.511790300Z",
     "start_time": "2023-12-06T08:28:16.473265700Z"
    },
    "collapsed": false
   },
   "outputs": [],
   "source": [
    "pr_environment = pr_environment.to_numpy()"
   ]
  },
  {
   "cell_type": "code",
   "execution_count": 13,
   "id": "e2f70f184ed63707",
   "metadata": {
    "ExecuteTime": {
     "end_time": "2023-12-06T08:28:25.937945900Z",
     "start_time": "2023-12-06T08:28:25.915250800Z"
    },
    "collapsed": false
   },
   "outputs": [
    {
     "data": {
      "text/plain": [
       "array(['A', 'A+', 'A-', 'B', 'B+', 'B-', 'C', 'C+', 'C-', 'D', 'D+'],\n",
       "      dtype=object)"
      ]
     },
     "execution_count": 13,
     "metadata": {},
     "output_type": "execute_result"
    }
   ],
   "source": [
    "np.unique(pr_environment)"
   ]
  },
  {
   "cell_type": "code",
   "execution_count": 14,
   "id": "1f30208adf7a941d",
   "metadata": {
    "ExecuteTime": {
     "end_time": "2023-12-06T08:51:32.438731700Z",
     "start_time": "2023-12-06T08:51:32.423844300Z"
    },
    "collapsed": false
   },
   "outputs": [],
   "source": [
    "pr_score = {\"D\":0,\"D+\":1,\"C-\":2,\"C\":3,\"C+\":4,\"B-\":5,\"B\":6,\"B+\":7,\"A-\":8,\"A\":9,\"A+\":10}"
   ]
  },
  {
   "cell_type": "code",
   "execution_count": 15,
   "id": "c3bd692fc9ec5dab",
   "metadata": {
    "ExecuteTime": {
     "end_time": "2023-12-06T08:40:09.550270800Z",
     "start_time": "2023-12-06T08:40:09.526076Z"
    },
    "collapsed": false
   },
   "outputs": [],
   "source": [
    "gt_esg = [gt_score[i] for i in gt_environment]"
   ]
  },
  {
   "cell_type": "code",
   "execution_count": 16,
   "id": "8e3f501b01e9569d",
   "metadata": {
    "ExecuteTime": {
     "end_time": "2023-12-06T08:51:35.524785200Z",
     "start_time": "2023-12-06T08:51:35.496276200Z"
    },
    "collapsed": false
   },
   "outputs": [],
   "source": [
    "pr_esg = [pr_score[i] for i in pr_environment]"
   ]
  },
  {
   "cell_type": "code",
   "execution_count": 17,
   "id": "b01c64c77133c5a2",
   "metadata": {
    "ExecuteTime": {
     "end_time": "2023-12-06T08:58:20.737905500Z",
     "start_time": "2023-12-06T08:58:20.724903500Z"
    },
    "collapsed": false
   },
   "outputs": [],
   "source": [
    "gt_esg = np.array(gt_esg)\n",
    "pr_esg = np.array(pr_esg)"
   ]
  },
  {
   "cell_type": "code",
   "execution_count": 18,
   "metadata": {},
   "outputs": [],
   "source": [
    "def re_histogram(esg):\n",
    "    hist = []\n",
    "    for i in range(0,int(esg.max())+1):\n",
    "        hist = np.append(hist, np.sum(esg == i))\n",
    "    re_hist = np.zeros(5)\n",
    "    re_dict = {}\n",
    "    partition = np.round(hist.sum()/5)\n",
    "    index = 0\n",
    "    for i,v in enumerate(hist):\n",
    "        if v <= partition - re_hist[index]:\n",
    "            re_hist[index] += v\n",
    "            re_dict[i] = index\n",
    "        else:\n",
    "            if v + re_hist[index] > partition * 1.2:\n",
    "                index += 1\n",
    "                if index == 5:\n",
    "                    index = 4\n",
    "                    re_hist[index] += v\n",
    "                    re_dict[i] = index\n",
    "                else:\n",
    "                    re_hist[index] += v\n",
    "                    re_dict[i] = index\n",
    "            else:\n",
    "                re_hist[index] += v\n",
    "                re_dict[i] = index\n",
    "                index += 1\n",
    "                if index == 5:\n",
    "                    index = 4\n",
    "    return re_dict"
   ]
  },
  {
   "cell_type": "code",
   "execution_count": 19,
   "metadata": {},
   "outputs": [],
   "source": [
    "gt_hist = re_histogram(gt_esg)\n",
    "pr_hist = re_histogram(pr_esg)"
   ]
  },
  {
   "cell_type": "code",
   "execution_count": 20,
   "metadata": {},
   "outputs": [],
   "source": [
    "re_gt_esg = [gt_hist[i] for i in gt_esg]\n",
    "re_pr_esg = [pr_hist[i] for i in pr_esg]\n",
    "re_pr_esg = np.array(re_pr_esg)\n",
    "re_gt_esg = np.array(re_gt_esg)"
   ]
  },
  {
   "cell_type": "code",
   "execution_count": 21,
   "metadata": {},
   "outputs": [
    {
     "data": {
      "text/plain": [
       "0.2837209302325581"
      ]
     },
     "execution_count": 21,
     "metadata": {},
     "output_type": "execute_result"
    }
   ],
   "source": [
    "np.where(re_gt_esg==re_pr_esg)[0].shape[0]/re_gt_esg.shape[0]"
   ]
  },
  {
   "cell_type": "code",
   "execution_count": 26,
   "metadata": {},
   "outputs": [
    {
     "data": {
      "text/plain": [
       "0.08372093023255814"
      ]
     },
     "execution_count": 26,
     "metadata": {},
     "output_type": "execute_result"
    }
   ],
   "source": [
    "np.where(gt_esg==pr_esg-1)[0].shape[0]/re_gt_esg.shape[0]"
   ]
  },
  {
   "cell_type": "code",
   "execution_count": 27,
   "id": "04e66c64",
   "metadata": {},
   "outputs": [
    {
     "data": {
      "text/plain": [
       "0.046511627906976744"
      ]
     },
     "execution_count": 27,
     "metadata": {},
     "output_type": "execute_result"
    }
   ],
   "source": [
    "np.where(gt_esg==pr_esg+1)[0].shape[0]/re_gt_esg.shape[0]"
   ]
  },
  {
   "cell_type": "code",
   "execution_count": 28,
   "id": "3448631a",
   "metadata": {},
   "outputs": [
    {
     "data": {
      "text/plain": [
       "0.08837209302325581"
      ]
     },
     "execution_count": 28,
     "metadata": {},
     "output_type": "execute_result"
    }
   ],
   "source": [
    "np.where(gt_esg==pr_esg)[0].shape[0]/re_gt_esg.shape[0]"
   ]
  },
  {
   "cell_type": "code",
   "execution_count": 68,
   "id": "7349610442a25c70",
   "metadata": {
    "ExecuteTime": {
     "end_time": "2023-12-06T09:15:40.164729800Z",
     "start_time": "2023-12-06T09:15:40.002Z"
    },
    "collapsed": false
   },
   "outputs": [
    {
     "data": {
      "image/png": "[encoded data removed]",
      "text/plain": [
       "<Figure size 640x480 with 1 Axes>"
      ]
     },
     "metadata": {},
     "output_type": "display_data"
    }
   ],
   "source": [
    "gt_dis = plt.hist(re_gt_esg)[0]"
   ]
  },
  {
   "cell_type": "code",
   "execution_count": 31,
   "metadata": {},
   "outputs": [
    {
     "data": {
      "text/plain": [
       "array([49., 47., 47., 15., 19., 12.,  6., 11.,  4.,  5.])"
      ]
     },
     "execution_count": 31,
     "metadata": {},
     "output_type": "execute_result"
    }
   ],
   "source": [
    "gt_dis"
   ]
  },
  {
   "cell_type": "code",
   "execution_count": 69,
   "id": "e89095b412b8612e",
   "metadata": {
    "ExecuteTime": {
     "end_time": "2023-12-06T09:15:52.838353600Z",
     "start_time": "2023-12-06T09:15:52.676802900Z"
    },
    "collapsed": false
   },
   "outputs": [
    {
     "data": {
      "image/png": "[encoded data removed]",
      "text/plain": [
       "<Figure size 640x480 with 1 Axes>"
      ]
     },
     "metadata": {},
     "output_type": "display_data"
    }
   ],
   "source": [
    "pr_dis =plt.hist(re_pr_esg)[0]"
   ]
  },
  {
   "cell_type": "code",
   "execution_count": null,
   "metadata": {},
   "outputs": [],
   "source": []
  },
  {
   "cell_type": "code",
   "execution_count": 29,
   "id": "c89698e65ba34ff5",
   "metadata": {
    "ExecuteTime": {
     "end_time": "2023-12-06T09:01:14.508415900Z",
     "start_time": "2023-12-06T09:01:14.473807200Z"
    },
    "collapsed": false
   },
   "outputs": [
    {
     "data": {
      "text/plain": [
       "45"
      ]
     },
     "execution_count": 29,
     "metadata": {},
     "output_type": "execute_result"
    }
   ],
   "source": [
    "len(np.where(gt_esg == pr_esg)[0])"
   ]
  },
  {
   "cell_type": "code",
   "execution_count": 30,
   "id": "b69d88c0cff3011d",
   "metadata": {
    "ExecuteTime": {
     "end_time": "2023-12-06T09:01:36.807831800Z",
     "start_time": "2023-12-06T09:01:36.712145500Z"
    },
    "collapsed": false
   },
   "outputs": [
    {
     "data": {
      "text/plain": [
       "0.20930232558139536"
      ]
     },
     "execution_count": 30,
     "metadata": {},
     "output_type": "execute_result"
    }
   ],
   "source": [
    "45/len(gt_esg)"
   ]
  },
  {
   "cell_type": "code",
   "execution_count": 31,
   "id": "bc9095e4ea54bf15",
   "metadata": {
    "ExecuteTime": {
     "end_time": "2023-12-06T09:09:53.730280700Z",
     "start_time": "2023-12-06T09:09:53.682982600Z"
    },
    "collapsed": false
   },
   "outputs": [],
   "source": [
    "def cross_entropy(y, t):\n",
    "    delta = 1e-7\n",
    "    return -np.sum(t*np.log(y+delta))"
   ]
  },
  {
   "cell_type": "code",
   "execution_count": 43,
   "id": "1c8454b424fbd214",
   "metadata": {
    "ExecuteTime": {
     "end_time": "2023-12-06T09:16:17.227254900Z",
     "start_time": "2023-12-06T09:16:17.215251900Z"
    },
    "collapsed": false
   },
   "outputs": [
    {
     "data": {
      "text/plain": [
       "-629.4559202993247"
      ]
     },
     "execution_count": 43,
     "metadata": {},
     "output_type": "execute_result"
    }
   ],
   "source": [
    "cross_entropy(pr_dis, gt_dis)"
   ]
  },
  {
   "cell_type": "code",
   "execution_count": 49,
   "id": "9c8f3a36ee32e3cd",
   "metadata": {
    "ExecuteTime": {
     "end_time": "2023-12-06T11:03:33.604976800Z",
     "start_time": "2023-12-06T11:03:33.551865300Z"
    },
    "collapsed": false
   },
   "outputs": [
    {
     "data": {
      "text/plain": [
       "16"
      ]
     },
     "execution_count": 49,
     "metadata": {},
     "output_type": "execute_result"
    }
   ],
   "source": [
    "len(np.where(gt_esg == pr_esg+1)[0])"
   ]
  },
  {
   "cell_type": "code",
   "execution_count": 50,
   "id": "4bec71f31110d29a",
   "metadata": {
    "ExecuteTime": {
     "end_time": "2023-12-06T11:03:40.209076300Z",
     "start_time": "2023-12-06T11:03:40.185234200Z"
    },
    "collapsed": false
   },
   "outputs": [
    {
     "data": {
      "text/plain": [
       "24"
      ]
     },
     "execution_count": 50,
     "metadata": {},
     "output_type": "execute_result"
    }
   ],
   "source": [
    "len(np.where(gt_esg == pr_esg-1)[0])"
   ]
  },
  {
   "cell_type": "code",
   "execution_count": 51,
   "id": "170b81b3f4182ccc",
   "metadata": {
    "ExecuteTime": {
     "end_time": "2023-12-06T11:03:56.927836600Z",
     "start_time": "2023-12-06T11:03:56.916649500Z"
    },
    "collapsed": false
   },
   "outputs": [
    {
     "data": {
      "text/plain": [
       "0.3953488372093023"
      ]
     },
     "execution_count": 51,
     "metadata": {},
     "output_type": "execute_result"
    }
   ],
   "source": [
    "(45+16+24)/len(gt_esg)"
   ]
  },
  {
   "cell_type": "code",
   "execution_count": 52,
   "id": "faad313139178bcf",
   "metadata": {
    "ExecuteTime": {
     "end_time": "2023-12-06T11:05:37.687715500Z",
     "start_time": "2023-12-06T11:05:37.659708600Z"
    },
    "collapsed": false
   },
   "outputs": [],
   "source": [
    "pr_score = {\"N/\":0,\"E\":0,\"D-\":0,\"D\":0, \"C-\":0, \"C\":0, \"C+\":0,\"B-\":1,\"B\":1,\"B+\":1,\"A-\":2,\"A\":2,\"A+\":2}\n",
    "gt_score = {\"C\":0, \"B\":0,\"BB\":0,\"BBB⁻\":1,\"BBB\":1,\"BBB⁺\":1,\"A⁻\":2,\"A\":2,\"AA⁻\":2,\"A⁺\":2}"
   ]
  },
  {
   "cell_type": "code",
   "execution_count": 53,
   "id": "5b51362bbde3233e",
   "metadata": {
    "ExecuteTime": {
     "end_time": "2023-12-06T11:05:45.134077700Z",
     "start_time": "2023-12-06T11:05:45.090243900Z"
    },
    "collapsed": false
   },
   "outputs": [],
   "source": [
    "gt_esg = [gt_score[i] for i in gt_environment]\n",
    "pr_esg = [pr_score[i] for i in pr_environment]"
   ]
  },
  {
   "cell_type": "code",
   "execution_count": 54,
   "id": "cbf05eb1fff36f77",
   "metadata": {
    "ExecuteTime": {
     "end_time": "2023-12-06T11:05:49.430230400Z",
     "start_time": "2023-12-06T11:05:49.418223500Z"
    },
    "collapsed": false
   },
   "outputs": [],
   "source": [
    "gt_esg = np.array(gt_esg)\n",
    "pr_esg = np.array(pr_esg)"
   ]
  },
  {
   "cell_type": "code",
   "execution_count": 58,
   "id": "e9d689054f997af7",
   "metadata": {
    "ExecuteTime": {
     "end_time": "2023-12-06T11:06:45.871623900Z",
     "start_time": "2023-12-06T11:06:45.848109500Z"
    },
    "collapsed": false
   },
   "outputs": [
    {
     "data": {
      "text/plain": [
       "0.8883720930232558"
      ]
     },
     "execution_count": 58,
     "metadata": {},
     "output_type": "execute_result"
    }
   ],
   "source": [
    "len(np.where(gt_esg == pr_esg)[0])/len(gt_esg)+len(np.where(gt_esg == pr_esg+1)[0])/len(gt_esg)+len(np.where(gt_esg == pr_esg-1)[0])/len(gt_esg)"
   ]
  },
  {
   "cell_type": "code",
   "execution_count": 56,
   "id": "3203b3eb1fdbe62f",
   "metadata": {
    "ExecuteTime": {
     "end_time": "2023-12-06T11:06:06.277232100Z",
     "start_time": "2023-12-06T11:06:06.214078900Z"
    },
    "collapsed": false
   },
   "outputs": [
    {
     "data": {
      "text/plain": [
       "0.12093023255813953"
      ]
     },
     "execution_count": 56,
     "metadata": {},
     "output_type": "execute_result"
    }
   ],
   "source": [
    "len(np.where(gt_esg == pr_esg+1)[0])/len(gt_esg)"
   ]
  },
  {
   "cell_type": "code",
   "execution_count": 57,
   "id": "7735c04884e70a34",
   "metadata": {
    "ExecuteTime": {
     "end_time": "2023-12-06T11:06:09.145645700Z",
     "start_time": "2023-12-06T11:06:09.101697400Z"
    },
    "collapsed": false
   },
   "outputs": [
    {
     "data": {
      "text/plain": [
       "0.2930232558139535"
      ]
     },
     "execution_count": 57,
     "metadata": {},
     "output_type": "execute_result"
    }
   ],
   "source": [
    "len(np.where(gt_esg == pr_esg-1)[0])/len(gt_esg)"
   ]
  },
  {
   "cell_type": "code",
   "execution_count": null,
   "id": "458212bb53b8ac51",
   "metadata": {
    "collapsed": false
   },
   "outputs": [],
   "source": []
  }
 ],
 "metadata": {
  "kernelspec": {
   "display_name": "Python 3",
   "language": "python",
   "name": "python3"
  },
  "language_info": {
   "codemirror_mode": {
    "name": "ipython",
    "version": 3
   },
   "file_extension": ".py",
   "mimetype": "text/x-python",
   "name": "python",
   "nbconvert_exporter": "python",
   "pygments_lexer": "ipython3",
   "version": "3.10.12"
  }
 },
 "nbformat": 4,
 "nbformat_minor": 5
}
