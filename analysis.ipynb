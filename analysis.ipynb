{
 "cells": [
  {
   "cell_type": "code",
   "execution_count": 2,
   "id": "initial_id",
   "metadata": {
    "ExecuteTime": {
     "end_time": "2023-12-06T07:32:09.906970Z",
     "start_time": "2023-12-06T07:32:09.355560Z"
    },
    "collapsed": true
   },
   "outputs": [],
   "source": [
    "import pandas as pd\n",
    "import statsmodels.api as sm\n",
    "import numpy as np\n",
    "import matplotlib.pyplot as plt\n",
    "import seaborn as sns\n",
    "from sklearn import linear_model\n",
    "from sklearn.metrics import mean_squared_error, r2_score\n",
    "from sklearn.model_selection import train_test_split"
   ]
  },
  {
   "cell_type": "code",
   "execution_count": 3,
   "id": "f96f9fb944bc7b11",
   "metadata": {
    "ExecuteTime": {
     "end_time": "2023-12-06T07:32:10.839902200Z",
     "start_time": "2023-12-06T07:32:09.907972800Z"
    },
    "collapsed": false
   },
   "outputs": [
    {
     "data": {
      "text/html": [
       "<div>\n",
       "<style scoped>\n",
       "    .dataframe tbody tr th:only-of-type {\n",
       "        vertical-align: middle;\n",
       "    }\n",
       "\n",
       "    .dataframe tbody tr th {\n",
       "        vertical-align: top;\n",
       "    }\n",
       "\n",
       "    .dataframe thead th {\n",
       "        text-align: right;\n",
       "    }\n",
       "</style>\n",
       "<table border=\"1\" class=\"dataframe\">\n",
       "  <thead>\n",
       "    <tr style=\"text-align: right;\">\n",
       "      <th></th>\n",
       "      <th>Company_name</th>\n",
       "      <th>Company_area</th>\n",
       "      <th>Company_code</th>\n",
       "      <th>Company_industry</th>\n",
       "      <th>CITI</th>\n",
       "      <th>CITI_all_rank</th>\n",
       "      <th>CITI_trade_rank</th>\n",
       "      <th>CATI</th>\n",
       "      <th>CATI_all_rank</th>\n",
       "      <th>CATI_trade_rank</th>\n",
       "      <th>...</th>\n",
       "      <th>rank_Assistant1</th>\n",
       "      <th>rank_Claude-instant0</th>\n",
       "      <th>rank_Claude-instant1</th>\n",
       "      <th>rank_Claude-instant2</th>\n",
       "      <th>rank_GPT-3.5-Turbo0</th>\n",
       "      <th>rank_GPT-3.5-Turbo1</th>\n",
       "      <th>rank_GPT-3.5-Turbo-Instruct0</th>\n",
       "      <th>rank_GPT-3.5-Turbo-Instruct1</th>\n",
       "      <th>rank_GPT-40</th>\n",
       "      <th>rank_Web-Search0</th>\n",
       "    </tr>\n",
       "  </thead>\n",
       "  <tbody>\n",
       "    <tr>\n",
       "      <th>0</th>\n",
       "      <td>李宁有限公司</td>\n",
       "      <td>中国大陆</td>\n",
       "      <td>02331.HK</td>\n",
       "      <td>纺织, 皮革</td>\n",
       "      <td>39.46</td>\n",
       "      <td>39</td>\n",
       "      <td>11</td>\n",
       "      <td>24.8</td>\n",
       "      <td>284</td>\n",
       "      <td>32</td>\n",
       "      <td>...</td>\n",
       "      <td>B</td>\n",
       "      <td>B-</td>\n",
       "      <td>B</td>\n",
       "      <td>B-</td>\n",
       "      <td>C</td>\n",
       "      <td>B</td>\n",
       "      <td>B</td>\n",
       "      <td>C+</td>\n",
       "      <td>C</td>\n",
       "      <td>-</td>\n",
       "    </tr>\n",
       "    <tr>\n",
       "      <th>1</th>\n",
       "      <td>联想集团有限公司</td>\n",
       "      <td>中国大陆</td>\n",
       "      <td>00992.HK</td>\n",
       "      <td>IT/ ICT</td>\n",
       "      <td>46.44</td>\n",
       "      <td>34</td>\n",
       "      <td>9</td>\n",
       "      <td>65.2</td>\n",
       "      <td>15</td>\n",
       "      <td>7</td>\n",
       "      <td>...</td>\n",
       "      <td>A</td>\n",
       "      <td>A-</td>\n",
       "      <td>A+</td>\n",
       "      <td>B</td>\n",
       "      <td>A</td>\n",
       "      <td>A</td>\n",
       "      <td>A</td>\n",
       "      <td>A-</td>\n",
       "      <td>B+</td>\n",
       "      <td>-</td>\n",
       "    </tr>\n",
       "    <tr>\n",
       "      <th>2</th>\n",
       "      <td>雅戈尔集团股份有限公司</td>\n",
       "      <td>中国大陆</td>\n",
       "      <td>600177.SH</td>\n",
       "      <td>纺织</td>\n",
       "      <td>6.40</td>\n",
       "      <td>531</td>\n",
       "      <td>108</td>\n",
       "      <td>7.0</td>\n",
       "      <td>929</td>\n",
       "      <td>117</td>\n",
       "      <td>...</td>\n",
       "      <td>C-</td>\n",
       "      <td>A</td>\n",
       "      <td>C+</td>\n",
       "      <td>B</td>\n",
       "      <td>C-</td>\n",
       "      <td>C-</td>\n",
       "      <td>C-</td>\n",
       "      <td>B-</td>\n",
       "      <td>C-</td>\n",
       "      <td>C</td>\n",
       "    </tr>\n",
       "    <tr>\n",
       "      <th>3</th>\n",
       "      <td>探路者控股集团股份有限公司</td>\n",
       "      <td>中国大陆</td>\n",
       "      <td>300005.SZ</td>\n",
       "      <td>纺织, 皮革</td>\n",
       "      <td>2.00</td>\n",
       "      <td>647</td>\n",
       "      <td>59</td>\n",
       "      <td>2.5</td>\n",
       "      <td>1269</td>\n",
       "      <td>59</td>\n",
       "      <td>...</td>\n",
       "      <td>C</td>\n",
       "      <td>A+</td>\n",
       "      <td>C</td>\n",
       "      <td>C-</td>\n",
       "      <td>C-</td>\n",
       "      <td>C</td>\n",
       "      <td>D</td>\n",
       "      <td>D-</td>\n",
       "      <td>C-</td>\n",
       "      <td>-</td>\n",
       "    </tr>\n",
       "    <tr>\n",
       "      <th>4</th>\n",
       "      <td>青岛啤酒股份有限公司</td>\n",
       "      <td>中国大陆</td>\n",
       "      <td>600600.SH</td>\n",
       "      <td>啤酒</td>\n",
       "      <td>10.70</td>\n",
       "      <td>358</td>\n",
       "      <td>6</td>\n",
       "      <td>16.0</td>\n",
       "      <td>508</td>\n",
       "      <td>6</td>\n",
       "      <td>...</td>\n",
       "      <td>B+</td>\n",
       "      <td>A</td>\n",
       "      <td>A</td>\n",
       "      <td>A-</td>\n",
       "      <td>B</td>\n",
       "      <td>B</td>\n",
       "      <td>B+</td>\n",
       "      <td>B</td>\n",
       "      <td>B</td>\n",
       "      <td>B</td>\n",
       "    </tr>\n",
       "  </tbody>\n",
       "</table>\n",
       "<p>5 rows × 147 columns</p>\n",
       "</div>"
      ],
      "text/plain": [
       "    Company_name Company_area Company_code Company_industry   CITI  \\\n",
       "0         李宁有限公司         中国大陆     02331.HK           纺织, 皮革  39.46   \n",
       "1       联想集团有限公司         中国大陆     00992.HK          IT/ ICT  46.44   \n",
       "2    雅戈尔集团股份有限公司         中国大陆    600177.SH               纺织   6.40   \n",
       "3  探路者控股集团股份有限公司         中国大陆    300005.SZ           纺织, 皮革   2.00   \n",
       "4     青岛啤酒股份有限公司         中国大陆    600600.SH               啤酒  10.70   \n",
       "\n",
       "   CITI_all_rank  CITI_trade_rank  CATI  CATI_all_rank  CATI_trade_rank  ...  \\\n",
       "0             39               11  24.8            284               32  ...   \n",
       "1             34                9  65.2             15                7  ...   \n",
       "2            531              108   7.0            929              117  ...   \n",
       "3            647               59   2.5           1269               59  ...   \n",
       "4            358                6  16.0            508                6  ...   \n",
       "\n",
       "   rank_Assistant1  rank_Claude-instant0  rank_Claude-instant1  \\\n",
       "0                B                    B-                     B   \n",
       "1                A                    A-                    A+   \n",
       "2               C-                     A                    C+   \n",
       "3                C                    A+                     C   \n",
       "4               B+                     A                     A   \n",
       "\n",
       "   rank_Claude-instant2  rank_GPT-3.5-Turbo0  rank_GPT-3.5-Turbo1  \\\n",
       "0                    B-                    C                    B   \n",
       "1                     B                    A                    A   \n",
       "2                     B                   C-                   C-   \n",
       "3                    C-                   C-                    C   \n",
       "4                    A-                    B                    B   \n",
       "\n",
       "   rank_GPT-3.5-Turbo-Instruct0  rank_GPT-3.5-Turbo-Instruct1  rank_GPT-40  \\\n",
       "0                             B                            C+            C   \n",
       "1                             A                            A-           B+   \n",
       "2                            C-                            B-           C-   \n",
       "3                             D                            D-           C-   \n",
       "4                            B+                             B            B   \n",
       "\n",
       "   rank_Web-Search0  \n",
       "0                 -  \n",
       "1                 -  \n",
       "2                 C  \n",
       "3                 -  \n",
       "4                 B  \n",
       "\n",
       "[5 rows x 147 columns]"
      ]
     },
     "execution_count": 3,
     "metadata": {},
     "output_type": "execute_result"
    }
   ],
   "source": [
    "data = pd.read_excel(\"./data/data_cn_lc.xlsx\")\n",
    "data = data.drop(columns=['Unnamed: 0'])\n",
    "data.head()"
   ]
  },
  {
   "cell_type": "code",
   "execution_count": 4,
   "metadata": {},
   "outputs": [
    {
     "data": {
      "text/plain": [
       "{'纺织, 皮革': 0,\n",
       " 'IT/ ICT': 1,\n",
       " '纺织': 2,\n",
       " '啤酒': 3,\n",
       " '汽车': 4,\n",
       " '汽车, 电池及电池材料': 5,\n",
       " 'IT/ ICT, 光伏设备': 6,\n",
       " '乳制品': 7,\n",
       " '食品饮料': 8,\n",
       " '家电': 9,\n",
       " '日化': 10,\n",
       " '皮革': 11,\n",
       " '纸业': 12,\n",
       " 'IT/ ICT, 家电': 13,\n",
       " '房地产建筑': 14,\n",
       " '食品饮料, 乳制品': 15,\n",
       " '纺织, 钢铁': 16,\n",
       " '汽车零部件': 17,\n",
       " '白酒': 18,\n",
       " '医药': 19,\n",
       " '家装': 20,\n",
       " '化工, 家装': 21,\n",
       " '家电, 家装': 22,\n",
       " '自行车/助力车': 23,\n",
       " '光伏设备': 24,\n",
       " '玩具': 25,\n",
       " '互联网平台': 26,\n",
       " '零售, 互联网平台': 27,\n",
       " '家电, 光伏设备': 28,\n",
       " '餐饮': 29}"
      ]
     },
     "execution_count": 4,
     "metadata": {},
     "output_type": "execute_result"
    }
   ],
   "source": [
    "ci_score = zip(data[\"Company_industry\"].unique(), range(len(data[\"Company_industry\"].unique())))\n",
    "ci_score = dict(ci_score)\n",
    "ci_score"
   ]
  },
  {
   "cell_type": "code",
   "execution_count": 5,
   "metadata": {},
   "outputs": [],
   "source": [
    "\n",
    "index = np.random.choice(range(len(data)), size=len(data), replace=False)"
   ]
  },
  {
   "cell_type": "code",
   "execution_count": 6,
   "id": "c66e36b3",
   "metadata": {},
   "outputs": [
    {
     "data": {
      "text/plain": [
       "array([ 24, 140,  53,  73,  18, 109,  70, 160,  66,  99, 120, 205, 161,\n",
       "       184, 158, 169,   2,  72,  33, 150,  35,  29, 189,  19,  30, 113,\n",
       "       122,   4, 136,  50, 126,  44, 172,  80, 142, 104,  85,   5, 204,\n",
       "       114,  48, 200, 153,  62, 173,  22,  38, 166,  54, 152, 206, 139,\n",
       "       103,  78, 171, 124, 111,  25, 181,  39, 179, 155,  41, 191,  90,\n",
       "        74, 119, 121,  10,  95,  87, 135, 141, 178, 187, 177,  76, 198,\n",
       "         8,  63,  86, 131, 188, 208,  52,  64,  71,  97, 149,  68,  59,\n",
       "        84,  81, 194, 106, 148,  15, 209,  77,  42,  12, 128,  37, 133,\n",
       "        79, 168, 156,  89, 210,   6, 202, 125,  45,  23,  34, 167,  55,\n",
       "       117, 144, 134, 110, 159,  46, 157, 164, 203, 123,  28, 183,  31,\n",
       "       170,  14,  61, 162, 213, 129, 107,  20,  47, 132,  49,  21, 186,\n",
       "        94, 199,  17, 207,  16,  36,  92, 193, 100,   3, 175, 165, 214,\n",
       "       196, 195,  26,  27,   7, 197,  98,  91,  82, 127, 145,  43,  69,\n",
       "       211,   9, 185, 130,  93, 102, 116,  96,  67,  40, 143, 147, 192,\n",
       "       108,  11, 174, 138, 201,  65, 115, 176, 180,  60,  51,  83,   0,\n",
       "       105, 154, 112,   1,  75, 190,  56, 101, 146,  58, 137,  13,  88,\n",
       "        32, 212, 163, 118, 151, 182,  57])"
      ]
     },
     "execution_count": 6,
     "metadata": {},
     "output_type": "execute_result"
    }
   ],
   "source": [
    "index"
   ]
  },
  {
   "cell_type": "code",
   "execution_count": 7,
   "id": "5d8a5ac1fb1bda4c",
   "metadata": {
    "ExecuteTime": {
     "end_time": "2023-12-06T07:32:10.863423200Z",
     "start_time": "2023-12-06T07:32:10.839902200Z"
    },
    "collapsed": false
   },
   "outputs": [],
   "source": [
    "gt_environment = data[\"Environment\"]"
   ]
  },
  {
   "cell_type": "code",
   "execution_count": 8,
   "id": "b1590c2632f381fc",
   "metadata": {
    "ExecuteTime": {
     "end_time": "2023-12-06T07:33:03.526558500Z",
     "start_time": "2023-12-06T07:33:03.498648600Z"
    },
    "collapsed": false
   },
   "outputs": [],
   "source": [
    "gt_environment = gt_environment.to_numpy()"
   ]
  },
  {
   "cell_type": "code",
   "execution_count": 9,
   "id": "c26c381c6de5a400",
   "metadata": {
    "ExecuteTime": {
     "end_time": "2023-12-06T07:33:16.340755300Z",
     "start_time": "2023-12-06T07:33:16.248724400Z"
    },
    "collapsed": false
   },
   "outputs": [
    {
     "data": {
      "text/plain": [
       "array(['A', 'A+', 'A-', 'AA-', 'B', 'BB', 'BBB', 'BBB+', 'BBB-', 'C'],\n",
       "      dtype=object)"
      ]
     },
     "execution_count": 9,
     "metadata": {},
     "output_type": "execute_result"
    }
   ],
   "source": [
    "np.unique(gt_environment)"
   ]
  },
  {
   "cell_type": "code",
   "execution_count": 10,
   "id": "806ee44ec39d6d12",
   "metadata": {
    "ExecuteTime": {
     "end_time": "2023-12-06T08:40:04.113897300Z",
     "start_time": "2023-12-06T08:40:04.085780600Z"
    },
    "collapsed": false
   },
   "outputs": [],
   "source": [
    "gt_score = {\"C\":0, \"B\":1,\"BB\":2,\"BBB-\":3,\"BBB\":4,\"BBB+\":5,\"A-\":6,\"A\":7,\"AA-\":8,\"A+\":9}"
   ]
  },
  {
   "cell_type": "code",
   "execution_count": 11,
   "id": "4e2cf2bfd3e5a23f",
   "metadata": {
    "ExecuteTime": {
     "end_time": "2023-12-06T08:28:01.197667300Z",
     "start_time": "2023-12-06T08:28:01.145117400Z"
    },
    "collapsed": false
   },
   "outputs": [],
   "source": [
    "pr_environment = data[\"rank_GPT-40\"]"
   ]
  },
  {
   "cell_type": "code",
   "execution_count": 12,
   "id": "70ca4ce4d33292ec",
   "metadata": {
    "ExecuteTime": {
     "end_time": "2023-12-06T08:28:16.511790300Z",
     "start_time": "2023-12-06T08:28:16.473265700Z"
    },
    "collapsed": false
   },
   "outputs": [],
   "source": [
    "pr_environment = pr_environment.to_numpy()"
   ]
  },
  {
   "cell_type": "code",
   "execution_count": 13,
   "id": "e2f70f184ed63707",
   "metadata": {
    "ExecuteTime": {
     "end_time": "2023-12-06T08:28:25.937945900Z",
     "start_time": "2023-12-06T08:28:25.915250800Z"
    },
    "collapsed": false
   },
   "outputs": [
    {
     "data": {
      "text/plain": [
       "array(['A', 'A+', 'A-', 'B', 'B+', 'B-', 'C', 'C+', 'C-', 'D', 'D+'],\n",
       "      dtype=object)"
      ]
     },
     "execution_count": 13,
     "metadata": {},
     "output_type": "execute_result"
    }
   ],
   "source": [
    "np.unique(pr_environment)"
   ]
  },
  {
   "cell_type": "code",
   "execution_count": 14,
   "id": "1f30208adf7a941d",
   "metadata": {
    "ExecuteTime": {
     "end_time": "2023-12-06T08:51:32.438731700Z",
     "start_time": "2023-12-06T08:51:32.423844300Z"
    },
    "collapsed": false
   },
   "outputs": [],
   "source": [
    "pr_score = {\"D\":0,\"D+\":1,\"C-\":2,\"C\":3,\"C+\":4,\"B-\":5,\"B\":6,\"B+\":7,\"A-\":8,\"A\":9,\"A+\":10}"
   ]
  },
  {
   "cell_type": "code",
   "execution_count": 15,
   "id": "c3bd692fc9ec5dab",
   "metadata": {
    "ExecuteTime": {
     "end_time": "2023-12-06T08:40:09.550270800Z",
     "start_time": "2023-12-06T08:40:09.526076Z"
    },
    "collapsed": false
   },
   "outputs": [],
   "source": [
    "gt_esg = [gt_score[i] for i in gt_environment]"
   ]
  },
  {
   "cell_type": "code",
   "execution_count": 16,
   "id": "8e3f501b01e9569d",
   "metadata": {
    "ExecuteTime": {
     "end_time": "2023-12-06T08:51:35.524785200Z",
     "start_time": "2023-12-06T08:51:35.496276200Z"
    },
    "collapsed": false
   },
   "outputs": [],
   "source": [
    "pr_esg = [pr_score[i] for i in pr_environment]"
   ]
  },
  {
   "cell_type": "code",
   "execution_count": 17,
   "id": "b01c64c77133c5a2",
   "metadata": {
    "ExecuteTime": {
     "end_time": "2023-12-06T08:58:20.737905500Z",
     "start_time": "2023-12-06T08:58:20.724903500Z"
    },
    "collapsed": false
   },
   "outputs": [],
   "source": [
    "gt_esg = np.array(gt_esg)\n",
    "pr_esg = np.array(pr_esg)"
   ]
  },
  {
   "cell_type": "code",
   "execution_count": 18,
   "metadata": {},
   "outputs": [],
   "source": [
    "def re_histogram(esg):\n",
    "    hist = []\n",
    "    for i in range(0,int(esg.max())+1):\n",
    "        hist = np.append(hist, np.sum(esg == i))\n",
    "    re_hist = np.zeros(5)\n",
    "    re_dict = {}\n",
    "    partition = np.round(hist.sum()/5)\n",
    "    index = 0\n",
    "    for i,v in enumerate(hist):\n",
    "        if v <= partition - re_hist[index]:\n",
    "            re_hist[index] += v\n",
    "            re_dict[i] = index\n",
    "        else:\n",
    "            if v + re_hist[index] > partition * 1.2:\n",
    "                index += 1\n",
    "                if index == 5:\n",
    "                    index = 4\n",
    "                    re_hist[index] += v\n",
    "                    re_dict[i] = index\n",
    "                else:\n",
    "                    re_hist[index] += v\n",
    "                    re_dict[i] = index\n",
    "            else:\n",
    "                re_hist[index] += v\n",
    "                re_dict[i] = index\n",
    "                index += 1\n",
    "                if index == 5:\n",
    "                    index = 4\n",
    "    return re_dict"
   ]
  },
  {
   "cell_type": "code",
   "execution_count": 19,
   "metadata": {},
   "outputs": [],
   "source": [
    "gt_hist = re_histogram(gt_esg)\n",
    "pr_hist = re_histogram(pr_esg)"
   ]
  },
  {
   "cell_type": "code",
   "execution_count": 20,
   "metadata": {},
   "outputs": [],
   "source": [
    "re_gt_esg = [gt_hist[i] for i in gt_esg]\n",
    "re_pr_esg = [pr_hist[i] for i in pr_esg]\n",
    "re_pr_esg = np.array(re_pr_esg)\n",
    "re_gt_esg = np.array(re_gt_esg)"
   ]
  },
  {
   "cell_type": "code",
   "execution_count": 21,
   "metadata": {},
   "outputs": [
    {
     "data": {
      "text/plain": [
       "0.2837209302325581"
      ]
     },
     "execution_count": 21,
     "metadata": {},
     "output_type": "execute_result"
    }
   ],
   "source": [
    "np.where(re_gt_esg==re_pr_esg)[0].shape[0]/re_gt_esg.shape[0]"
   ]
  },
  {
   "cell_type": "code",
   "execution_count": 26,
   "metadata": {},
   "outputs": [
    {
     "data": {
      "text/plain": [
       "0.08372093023255814"
      ]
     },
     "execution_count": 26,
     "metadata": {},
     "output_type": "execute_result"
    }
   ],
   "source": [
    "np.where(gt_esg==pr_esg-1)[0].shape[0]/re_gt_esg.shape[0]"
   ]
  },
  {
   "cell_type": "code",
   "execution_count": 27,
   "id": "04e66c64",
   "metadata": {},
   "outputs": [
    {
     "data": {
      "text/plain": [
       "0.046511627906976744"
      ]
     },
     "execution_count": 27,
     "metadata": {},
     "output_type": "execute_result"
    }
   ],
   "source": [
    "np.where(gt_esg==pr_esg+1)[0].shape[0]/re_gt_esg.shape[0]"
   ]
  },
  {
   "cell_type": "code",
   "execution_count": 28,
   "id": "3448631a",
   "metadata": {},
   "outputs": [
    {
     "data": {
      "text/plain": [
       "0.08837209302325581"
      ]
     },
     "execution_count": 28,
     "metadata": {},
     "output_type": "execute_result"
    }
   ],
   "source": [
    "np.where(gt_esg==pr_esg)[0].shape[0]/re_gt_esg.shape[0]"
   ]
  },
  {
   "cell_type": "code",
   "execution_count": 68,
   "id": "7349610442a25c70",
   "metadata": {
    "ExecuteTime": {
     "end_time": "2023-12-06T09:15:40.164729800Z",
     "start_time": "2023-12-06T09:15:40.002Z"
    },
    "collapsed": false
   },
   "outputs": [
    {
     "data": {
      "image/png": "[encoded data removed]",
      "text/plain": [
       "<Figure size 640x480 with 1 Axes>"
      ]
     },
     "metadata": {},
     "output_type": "display_data"
    }
   ],
   "source": [
    "gt_dis = plt.hist(re_gt_esg)[0]"
   ]
  },
  {
   "cell_type": "code",
   "execution_count": 31,
   "metadata": {},
   "outputs": [
    {
     "data": {
      "text/plain": [
       "array([49., 47., 47., 15., 19., 12.,  6., 11.,  4.,  5.])"
      ]
     },
     "execution_count": 31,
     "metadata": {},
     "output_type": "execute_result"
    }
   ],
   "source": [
    "gt_dis"
   ]
  },
  {
   "cell_type": "code",
   "execution_count": 69,
   "id": "e89095b412b8612e",
   "metadata": {
    "ExecuteTime": {
     "end_time": "2023-12-06T09:15:52.838353600Z",
     "start_time": "2023-12-06T09:15:52.676802900Z"
    },
    "collapsed": false
   },
   "outputs": [
    {
     "data": {
      "image/png": "[encoded data removed]",
      "text/plain": [
       "<Figure size 640x480 with 1 Axes>"
      ]
     },
     "metadata": {},
     "output_type": "display_data"
    }
   ],
   "source": [
    "pr_dis =plt.hist(re_pr_esg)[0]"
   ]
  },
  {
   "cell_type": "code",
   "execution_count": null,
   "metadata": {},
   "outputs": [],
   "source": []
  },
  {
   "cell_type": "code",
   "execution_count": 29,
   "id": "c89698e65ba34ff5",
   "metadata": {
    "ExecuteTime": {
     "end_time": "2023-12-06T09:01:14.508415900Z",
     "start_time": "2023-12-06T09:01:14.473807200Z"
    },
    "collapsed": false
   },
   "outputs": [
    {
     "data": {
      "text/plain": [
       "45"
      ]
     },
     "execution_count": 29,
     "metadata": {},
     "output_type": "execute_result"
    }
   ],
   "source": [
    "len(np.where(gt_esg == pr_esg)[0])"
   ]
  },
  {
   "cell_type": "code",
   "execution_count": 30,
   "id": "b69d88c0cff3011d",
   "metadata": {
    "ExecuteTime": {
     "end_time": "2023-12-06T09:01:36.807831800Z",
     "start_time": "2023-12-06T09:01:36.712145500Z"
    },
    "collapsed": false
   },
   "outputs": [
    {
     "data": {
      "text/plain": [
       "0.20930232558139536"
      ]
     },
     "execution_count": 30,
     "metadata": {},
     "output_type": "execute_result"
    }
   ],
   "source": [
    "45/len(gt_esg)"
   ]
  },
  {
   "cell_type": "code",
   "execution_count": 31,
   "id": "bc9095e4ea54bf15",
   "metadata": {
    "ExecuteTime": {
     "end_time": "2023-12-06T09:09:53.730280700Z",
     "start_time": "2023-12-06T09:09:53.682982600Z"
    },
    "collapsed": false
   },
   "outputs": [],
   "source": [
    "def cross_entropy(y, t):\n",
    "    delta = 1e-7\n",
    "    return -np.sum(t*np.log(y+delta))"
   ]
  },
  {
   "cell_type": "code",
   "execution_count": 43,
   "id": "1c8454b424fbd214",
   "metadata": {
    "ExecuteTime": {
     "end_time": "2023-12-06T09:16:17.227254900Z",
     "start_time": "2023-12-06T09:16:17.215251900Z"
    },
    "collapsed": false
   },
   "outputs": [
    {
     "data": {
      "text/plain": [
       "-629.4559202993247"
      ]
     },
     "execution_count": 43,
     "metadata": {},
     "output_type": "execute_result"
    }
   ],
   "source": [
    "cross_entropy(pr_dis, gt_dis)"
   ]
  },
  {
   "cell_type": "code",
   "execution_count": 49,
   "id": "9c8f3a36ee32e3cd",
   "metadata": {
    "ExecuteTime": {
     "end_time": "2023-12-06T11:03:33.604976800Z",
     "start_time": "2023-12-06T11:03:33.551865300Z"
    },
    "collapsed": false
   },
   "outputs": [
    {
     "data": {
      "text/plain": [
       "16"
      ]
     },
     "execution_count": 49,
     "metadata": {},
     "output_type": "execute_result"
    }
   ],
   "source": [
    "len(np.where(gt_esg == pr_esg+1)[0])"
   ]
  },
  {
   "cell_type": "code",
   "execution_count": 50,
   "id": "4bec71f31110d29a",
   "metadata": {
    "ExecuteTime": {
     "end_time": "2023-12-06T11:03:40.209076300Z",
     "start_time": "2023-12-06T11:03:40.185234200Z"
    },
    "collapsed": false
   },
   "outputs": [
    {
     "data": {
      "text/plain": [
       "24"
      ]
     },
     "execution_count": 50,
     "metadata": {},
     "output_type": "execute_result"
    }
   ],
   "source": [
    "len(np.where(gt_esg == pr_esg-1)[0])"
   ]
  },
  {
   "cell_type": "code",
   "execution_count": 51,
   "id": "170b81b3f4182ccc",
   "metadata": {
    "ExecuteTime": {
     "end_time": "2023-12-06T11:03:56.927836600Z",
     "start_time": "2023-12-06T11:03:56.916649500Z"
    },
    "collapsed": false
   },
   "outputs": [
    {
     "data": {
      "text/plain": [
       "0.3953488372093023"
      ]
     },
     "execution_count": 51,
     "metadata": {},
     "output_type": "execute_result"
    }
   ],
   "source": [
    "(45+16+24)/len(gt_esg)"
   ]
  },
  {
   "cell_type": "code",
   "execution_count": 52,
   "id": "faad313139178bcf",
   "metadata": {
    "ExecuteTime": {
     "end_time": "2023-12-06T11:05:37.687715500Z",
     "start_time": "2023-12-06T11:05:37.659708600Z"
    },
    "collapsed": false
   },
   "outputs": [],
   "source": [
    "pr_score = {\"N/\":0,\"E\":0,\"D-\":0,\"D\":0, \"C-\":0, \"C\":0, \"C+\":0,\"B-\":1,\"B\":1,\"B+\":1,\"A-\":2,\"A\":2,\"A+\":2}\n",
    "gt_score = {\"C\":0, \"B\":0,\"BB\":0,\"BBB⁻\":1,\"BBB\":1,\"BBB⁺\":1,\"A⁻\":2,\"A\":2,\"AA⁻\":2,\"A⁺\":2}"
   ]
  },
  {
   "cell_type": "code",
   "execution_count": 53,
   "id": "5b51362bbde3233e",
   "metadata": {
    "ExecuteTime": {
     "end_time": "2023-12-06T11:05:45.134077700Z",
     "start_time": "2023-12-06T11:05:45.090243900Z"
    },
    "collapsed": false
   },
   "outputs": [],
   "source": [
    "gt_esg = [gt_score[i] for i in gt_environment]\n",
    "pr_esg = [pr_score[i] for i in pr_environment]"
   ]
  },
  {
   "cell_type": "code",
   "execution_count": 54,
   "id": "cbf05eb1fff36f77",
   "metadata": {
    "ExecuteTime": {
     "end_time": "2023-12-06T11:05:49.430230400Z",
     "start_time": "2023-12-06T11:05:49.418223500Z"
    },
    "collapsed": false
   },
   "outputs": [],
   "source": [
    "gt_esg = np.array(gt_esg)\n",
    "pr_esg = np.array(pr_esg)"
   ]
  },
  {
   "cell_type": "code",
   "execution_count": 58,
   "id": "e9d689054f997af7",
   "metadata": {
    "ExecuteTime": {
     "end_time": "2023-12-06T11:06:45.871623900Z",
     "start_time": "2023-12-06T11:06:45.848109500Z"
    },
    "collapsed": false
   },
   "outputs": [
    {
     "data": {
      "text/plain": [
       "0.8883720930232558"
      ]
     },
     "execution_count": 58,
     "metadata": {},
     "output_type": "execute_result"
    }
   ],
   "source": [
    "len(np.where(gt_esg == pr_esg)[0])/len(gt_esg)+len(np.where(gt_esg == pr_esg+1)[0])/len(gt_esg)+len(np.where(gt_esg == pr_esg-1)[0])/len(gt_esg)"
   ]
  },
  {
   "cell_type": "code",
   "execution_count": 56,
   "id": "3203b3eb1fdbe62f",
   "metadata": {
    "ExecuteTime": {
     "end_time": "2023-12-06T11:06:06.277232100Z",
     "start_time": "2023-12-06T11:06:06.214078900Z"
    },
    "collapsed": false
   },
   "outputs": [
    {
     "data": {
      "text/plain": [
       "0.12093023255813953"
      ]
     },
     "execution_count": 56,
     "metadata": {},
     "output_type": "execute_result"
    }
   ],
   "source": [
    "len(np.where(gt_esg == pr_esg+1)[0])/len(gt_esg)"
   ]
  },
  {
   "cell_type": "code",
   "execution_count": 57,
   "id": "7735c04884e70a34",
   "metadata": {
    "ExecuteTime": {
     "end_time": "2023-12-06T11:06:09.145645700Z",
     "start_time": "2023-12-06T11:06:09.101697400Z"
    },
    "collapsed": false
   },
   "outputs": [
    {
     "data": {
      "text/plain": [
       "0.2930232558139535"
      ]
     },
     "execution_count": 57,
     "metadata": {},
     "output_type": "execute_result"
    }
   ],
   "source": [
    "len(np.where(gt_esg == pr_esg-1)[0])/len(gt_esg)"
   ]
  },
  {
   "cell_type": "code",
   "execution_count": null,
   "id": "458212bb53b8ac51",
   "metadata": {
    "collapsed": false
   },
   "outputs": [],
   "source": []
  }
 ],
 "metadata": {
  "kernelspec": {
   "display_name": "Python 3",
   "language": "python",
   "name": "python3"
  },
  "language_info": {
   "codemirror_mode": {
    "name": "ipython",
    "version": 3
   },
   "file_extension": ".py",
   "mimetype": "text/x-python",
   "name": "python",
   "nbconvert_exporter": "python",
   "pygments_lexer": "ipython3",
   "version": "3.10.12"
  }
 },
 "nbformat": 4,
 "nbformat_minor": 5
}
